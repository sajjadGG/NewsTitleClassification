{
 "cells": [
  {
   "cell_type": "markdown",
   "id": "5ef8e493",
   "metadata": {},
   "source": [
    "## Outline:\n",
    "- So far\n",
    "- Motivation\n",
    "- Applications\n",
    "- Simple Implementation of Mentioned Models\n",
    "- Discuss Implementation Details and Keypoints to Consider"
   ]
  },
  {
   "cell_type": "code",
   "execution_count": 1,
   "id": "810e063b",
   "metadata": {},
   "outputs": [],
   "source": [
    "import warnings\n",
    "warnings.filterwarnings('ignore')\n",
    "\n",
    "%matplotlib inline\n",
    "\n",
    "from pathlib import Path\n",
    "from random import randint\n",
    "import numpy as np\n",
    "import pandas as pd\n",
    "\n",
    "# sklearn for feature extraction & modeling\n",
    "from sklearn.feature_extraction.text import TfidfVectorizer\n",
    "from sklearn.decomposition import TruncatedSVD, PCA\n",
    "from sklearn.model_selection import train_test_split\n",
    "\n",
    "# Visualization\n",
    "import matplotlib.pyplot as plt\n",
    "import seaborn as sns"
   ]
  },
  {
   "cell_type": "code",
   "execution_count": 2,
   "id": "00d3cf37",
   "metadata": {},
   "outputs": [],
   "source": [
    "sns.set_style('white')\n",
    "DATA_DIR = Path('data')"
   ]
  },
  {
   "cell_type": "code",
   "execution_count": 11,
   "id": "1207ed8f",
   "metadata": {},
   "outputs": [],
   "source": [
    "path = DATA_DIR / 'bbc'\n",
    "files = sorted(list(path.glob('**/*.txt')))\n",
    "doc_list = []\n",
    "for i, file in enumerate(files):\n",
    "    with open(str(file), encoding='latin1') as f:\n",
    "        topic = file.parts[-2]\n",
    "        lines = f.readlines()\n",
    "        heading = lines[0].strip()\n",
    "        body = ' '.join([l.strip() for l in lines[1:]])\n",
    "        doc_list.append([topic.capitalize(), heading, body])"
   ]
  },
  {
   "cell_type": "code",
   "execution_count": 12,
   "id": "626bfc25",
   "metadata": {},
   "outputs": [
    {
     "name": "stdout",
     "output_type": "stream",
     "text": [
      "<class 'pandas.core.frame.DataFrame'>\n",
      "RangeIndex: 2225 entries, 0 to 2224\n",
      "Data columns (total 3 columns):\n",
      " #   Column    Non-Null Count  Dtype \n",
      "---  ------    --------------  ----- \n",
      " 0   Category  2225 non-null   object\n",
      " 1   Heading   2225 non-null   object\n",
      " 2   Article   2225 non-null   object\n",
      "dtypes: object(3)\n",
      "memory usage: 52.3+ KB\n"
     ]
    }
   ],
   "source": [
    "docs = pd.DataFrame(doc_list, columns=['Category', 'Heading', 'Article'])\n",
    "docs.info()"
   ]
  },
  {
   "cell_type": "code",
   "execution_count": 15,
   "id": "d0af8caa",
   "metadata": {},
   "outputs": [
    {
     "data": {
      "text/html": [
       "<div>\n",
       "<style scoped>\n",
       "    .dataframe tbody tr th:only-of-type {\n",
       "        vertical-align: middle;\n",
       "    }\n",
       "\n",
       "    .dataframe tbody tr th {\n",
       "        vertical-align: top;\n",
       "    }\n",
       "\n",
       "    .dataframe thead th {\n",
       "        text-align: right;\n",
       "    }\n",
       "</style>\n",
       "<table border=\"1\" class=\"dataframe\">\n",
       "  <thead>\n",
       "    <tr style=\"text-align: right;\">\n",
       "      <th></th>\n",
       "      <th>Heading</th>\n",
       "      <th>Article</th>\n",
       "    </tr>\n",
       "    <tr>\n",
       "      <th>Category</th>\n",
       "      <th></th>\n",
       "      <th></th>\n",
       "    </tr>\n",
       "  </thead>\n",
       "  <tbody>\n",
       "    <tr>\n",
       "      <th>Business</th>\n",
       "      <td>510</td>\n",
       "      <td>510</td>\n",
       "    </tr>\n",
       "    <tr>\n",
       "      <th>Entertainment</th>\n",
       "      <td>386</td>\n",
       "      <td>386</td>\n",
       "    </tr>\n",
       "    <tr>\n",
       "      <th>Politics</th>\n",
       "      <td>417</td>\n",
       "      <td>417</td>\n",
       "    </tr>\n",
       "    <tr>\n",
       "      <th>Sport</th>\n",
       "      <td>511</td>\n",
       "      <td>511</td>\n",
       "    </tr>\n",
       "    <tr>\n",
       "      <th>Tech</th>\n",
       "      <td>401</td>\n",
       "      <td>401</td>\n",
       "    </tr>\n",
       "  </tbody>\n",
       "</table>\n",
       "</div>"
      ],
      "text/plain": [
       "               Heading  Article\n",
       "Category                       \n",
       "Business           510      510\n",
       "Entertainment      386      386\n",
       "Politics           417      417\n",
       "Sport              511      511\n",
       "Tech               401      401"
      ]
     },
     "execution_count": 15,
     "metadata": {},
     "output_type": "execute_result"
    }
   ],
   "source": [
    "docs.groupby('Category').count()"
   ]
  },
  {
   "cell_type": "code",
   "execution_count": 14,
   "id": "702bfb35",
   "metadata": {},
   "outputs": [
    {
     "data": {
      "text/html": [
       "<div>\n",
       "<style scoped>\n",
       "    .dataframe tbody tr th:only-of-type {\n",
       "        vertical-align: middle;\n",
       "    }\n",
       "\n",
       "    .dataframe tbody tr th {\n",
       "        vertical-align: top;\n",
       "    }\n",
       "\n",
       "    .dataframe thead th {\n",
       "        text-align: right;\n",
       "    }\n",
       "</style>\n",
       "<table border=\"1\" class=\"dataframe\">\n",
       "  <thead>\n",
       "    <tr style=\"text-align: right;\">\n",
       "      <th></th>\n",
       "      <th>Category</th>\n",
       "      <th>Heading</th>\n",
       "      <th>Article</th>\n",
       "    </tr>\n",
       "  </thead>\n",
       "  <tbody>\n",
       "    <tr>\n",
       "      <th>0</th>\n",
       "      <td>Business</td>\n",
       "      <td>Ad sales boost Time Warner profit</td>\n",
       "      <td>Quarterly profits at US media giant TimeWarne...</td>\n",
       "    </tr>\n",
       "    <tr>\n",
       "      <th>1</th>\n",
       "      <td>Business</td>\n",
       "      <td>Dollar gains on Greenspan speech</td>\n",
       "      <td>The dollar has hit its highest level against ...</td>\n",
       "    </tr>\n",
       "    <tr>\n",
       "      <th>2</th>\n",
       "      <td>Business</td>\n",
       "      <td>Yukos unit buyer faces loan claim</td>\n",
       "      <td>The owners of embattled Russian oil giant Yuk...</td>\n",
       "    </tr>\n",
       "    <tr>\n",
       "      <th>3</th>\n",
       "      <td>Business</td>\n",
       "      <td>High fuel prices hit BA's profits</td>\n",
       "      <td>British Airways has blamed high fuel prices f...</td>\n",
       "    </tr>\n",
       "    <tr>\n",
       "      <th>4</th>\n",
       "      <td>Business</td>\n",
       "      <td>Pernod takeover talk lifts Domecq</td>\n",
       "      <td>Shares in UK drinks and food firm Allied Dome...</td>\n",
       "    </tr>\n",
       "    <tr>\n",
       "      <th>...</th>\n",
       "      <td>...</td>\n",
       "      <td>...</td>\n",
       "      <td>...</td>\n",
       "    </tr>\n",
       "    <tr>\n",
       "      <th>2220</th>\n",
       "      <td>Tech</td>\n",
       "      <td>BT program to beat dialler scams</td>\n",
       "      <td>BT is introducing two initiatives to help bea...</td>\n",
       "    </tr>\n",
       "    <tr>\n",
       "      <th>2221</th>\n",
       "      <td>Tech</td>\n",
       "      <td>Spam e-mails tempt net shoppers</td>\n",
       "      <td>Computer users across the world continue to i...</td>\n",
       "    </tr>\n",
       "    <tr>\n",
       "      <th>2222</th>\n",
       "      <td>Tech</td>\n",
       "      <td>Be careful how you code</td>\n",
       "      <td>A new European directive could put software w...</td>\n",
       "    </tr>\n",
       "    <tr>\n",
       "      <th>2223</th>\n",
       "      <td>Tech</td>\n",
       "      <td>US cyber security chief resigns</td>\n",
       "      <td>The man making sure US computer networks are ...</td>\n",
       "    </tr>\n",
       "    <tr>\n",
       "      <th>2224</th>\n",
       "      <td>Tech</td>\n",
       "      <td>Losing yourself in online gaming</td>\n",
       "      <td>Online role playing games are time-consuming,...</td>\n",
       "    </tr>\n",
       "  </tbody>\n",
       "</table>\n",
       "<p>2225 rows × 3 columns</p>\n",
       "</div>"
      ],
      "text/plain": [
       "      Category                            Heading  \\\n",
       "0     Business  Ad sales boost Time Warner profit   \n",
       "1     Business   Dollar gains on Greenspan speech   \n",
       "2     Business  Yukos unit buyer faces loan claim   \n",
       "3     Business  High fuel prices hit BA's profits   \n",
       "4     Business  Pernod takeover talk lifts Domecq   \n",
       "...        ...                                ...   \n",
       "2220      Tech   BT program to beat dialler scams   \n",
       "2221      Tech    Spam e-mails tempt net shoppers   \n",
       "2222      Tech            Be careful how you code   \n",
       "2223      Tech    US cyber security chief resigns   \n",
       "2224      Tech   Losing yourself in online gaming   \n",
       "\n",
       "                                                Article  \n",
       "0      Quarterly profits at US media giant TimeWarne...  \n",
       "1      The dollar has hit its highest level against ...  \n",
       "2      The owners of embattled Russian oil giant Yuk...  \n",
       "3      British Airways has blamed high fuel prices f...  \n",
       "4      Shares in UK drinks and food firm Allied Dome...  \n",
       "...                                                 ...  \n",
       "2220   BT is introducing two initiatives to help bea...  \n",
       "2221   Computer users across the world continue to i...  \n",
       "2222   A new European directive could put software w...  \n",
       "2223   The man making sure US computer networks are ...  \n",
       "2224   Online role playing games are time-consuming,...  \n",
       "\n",
       "[2225 rows x 3 columns]"
      ]
     },
     "execution_count": 14,
     "metadata": {},
     "output_type": "execute_result"
    }
   ],
   "source": [
    "docs"
   ]
  },
  {
   "cell_type": "code",
   "execution_count": null,
   "id": "36cc2759",
   "metadata": {},
   "outputs": [],
   "source": []
  },
  {
   "cell_type": "markdown",
   "id": "fdcc1feb",
   "metadata": {},
   "source": [
    "[Stratified sampling](https://en.wikipedia.org/wiki/Stratified_sampling) aims at splitting a data set so that each split is similar with respect to something."
   ]
  },
  {
   "cell_type": "code",
   "execution_count": 16,
   "id": "d0dd331c",
   "metadata": {},
   "outputs": [],
   "source": [
    "train_docs, test_docs = train_test_split(docs, \n",
    "                                         stratify=docs.Category, \n",
    "                                         test_size=50, \n",
    "                                         random_state=42)"
   ]
  },
  {
   "cell_type": "code",
   "execution_count": 17,
   "id": "34806f02",
   "metadata": {},
   "outputs": [
    {
     "data": {
      "text/plain": [
       "((2175, 3), (50, 3))"
      ]
     },
     "execution_count": 17,
     "metadata": {},
     "output_type": "execute_result"
    }
   ],
   "source": [
    "train_docs.shape, test_docs.shape"
   ]
  },
  {
   "cell_type": "code",
   "execution_count": 18,
   "id": "f2bd5411",
   "metadata": {},
   "outputs": [
    {
     "data": {
      "text/plain": [
       "Sport            12\n",
       "Business         11\n",
       "Entertainment     9\n",
       "Tech              9\n",
       "Politics          9\n",
       "Name: Category, dtype: int64"
      ]
     },
     "execution_count": 18,
     "metadata": {},
     "output_type": "execute_result"
    }
   ],
   "source": [
    "pd.Series(test_docs.Category).value_counts()"
   ]
  },
  {
   "cell_type": "code",
   "execution_count": 19,
   "id": "d6e30471",
   "metadata": {},
   "outputs": [
    {
     "data": {
      "text/plain": [
       "<2175x2917 sparse matrix of type '<class 'numpy.float64'>'\n",
       "\twith 210043 stored elements in Compressed Sparse Row format>"
      ]
     },
     "execution_count": 19,
     "metadata": {},
     "output_type": "execute_result"
    }
   ],
   "source": [
    "vectorizer = TfidfVectorizer(max_df=.25,\n",
    "                             min_df=.01,\n",
    "                             stop_words='english',\n",
    "                             binary=False)\n",
    "train_dtm = vectorizer.fit_transform(train_docs.Article)\n",
    "train_dtm"
   ]
  },
  {
   "cell_type": "code",
   "execution_count": 20,
   "id": "803ceda9",
   "metadata": {},
   "outputs": [
    {
     "data": {
      "text/plain": [
       "<50x2917 sparse matrix of type '<class 'numpy.float64'>'\n",
       "\twith 4758 stored elements in Compressed Sparse Row format>"
      ]
     },
     "execution_count": 20,
     "metadata": {},
     "output_type": "execute_result"
    }
   ],
   "source": [
    "test_dtm = vectorizer.transform(test_docs.Article)\n",
    "test_dtm"
   ]
  },
  {
   "cell_type": "code",
   "execution_count": 21,
   "id": "68c4f292",
   "metadata": {},
   "outputs": [
    {
     "data": {
      "text/plain": [
       "film          41.256270\n",
       "government    38.808175\n",
       "game          36.319726\n",
       "best          36.093477\n",
       "uk            36.082515\n",
       "labour        32.496474\n",
       "music         30.706548\n",
       "000           30.276350\n",
       "company       29.549555\n",
       "number        29.153795\n",
       "dtype: float64"
      ]
     },
     "execution_count": 21,
     "metadata": {},
     "output_type": "execute_result"
    }
   ],
   "source": [
    "train_token_count = train_dtm.sum(0).A.squeeze()\n",
    "tokens = vectorizer.get_feature_names()\n",
    "word_count = pd.Series(train_token_count,\n",
    "                       index=tokens).sort_values(ascending=False)\n",
    "word_count.head(10)"
   ]
  },
  {
   "cell_type": "markdown",
   "id": "902eb593",
   "metadata": {},
   "source": [
    "## LSA: Latent Semantic Analysis\n",
    "We use sklearn’s TruncatedSVD class that only computes the k largest singular values to reduce the dimensionality of the document-term matrix. The deterministic arpack algorithm delivers an exact solution but the default ‘randomized’ implementation is more efficient for large matrices.\n",
    "\n",
    "We compute five topics to match the five categories, which explain only 5.4% of the total DTM variance so higher values would be reasonable."
   ]
  },
  {
   "cell_type": "code",
   "execution_count": 22,
   "id": "f0db1fa0",
   "metadata": {},
   "outputs": [],
   "source": [
    "n_components = 5\n",
    "topic_labels = ['Topic {}'.format(i) for i in range(1, n_components + 1)]"
   ]
  },
  {
   "cell_type": "code",
   "execution_count": 23,
   "id": "33a28ebb",
   "metadata": {},
   "outputs": [
    {
     "data": {
      "text/plain": [
       "TruncatedSVD(n_components=5, random_state=42)"
      ]
     },
     "execution_count": 23,
     "metadata": {},
     "output_type": "execute_result"
    }
   ],
   "source": [
    "svd = TruncatedSVD(n_components=n_components, n_iter=5, random_state=42)\n",
    "svd.fit(train_dtm)"
   ]
  },
  {
   "cell_type": "code",
   "execution_count": 24,
   "id": "0aa63366",
   "metadata": {},
   "outputs": [
    {
     "data": {
      "text/plain": [
       "array([8.90935604, 5.71762755, 5.38197939, 5.04420678, 4.71440144])"
      ]
     },
     "execution_count": 24,
     "metadata": {},
     "output_type": "execute_result"
    }
   ],
   "source": [
    "svd.singular_values_\n"
   ]
  },
  {
   "cell_type": "code",
   "execution_count": 25,
   "id": "50093a25",
   "metadata": {},
   "outputs": [
    {
     "data": {
      "text/plain": [
       "0.05382357286057263"
      ]
     },
     "execution_count": 25,
     "metadata": {},
     "output_type": "execute_result"
    }
   ],
   "source": [
    "svd.explained_variance_ratio_.sum()\n"
   ]
  },
  {
   "cell_type": "markdown",
   "id": "10aaed55",
   "metadata": {},
   "source": [
    "LSI identifies a new orthogonal basis for the document-term matrix that reduces the rank to the number of desired topics.\n",
    "\n",
    "The `.transform()` method of the trained svd object projects the documents into the new topic space that is the result of reducing the dimensionality of the document vectors and corresponds to the UTΣT transformation explained in the book."
   ]
  },
  {
   "cell_type": "code",
   "execution_count": 26,
   "id": "45b77c9d",
   "metadata": {},
   "outputs": [
    {
     "data": {
      "text/plain": [
       "(2175, 5)"
      ]
     },
     "execution_count": 26,
     "metadata": {},
     "output_type": "execute_result"
    }
   ],
   "source": [
    "train_doc_topics = svd.transform(train_dtm)\n",
    "train_doc_topics.shape\n"
   ]
  },
  {
   "cell_type": "code",
   "execution_count": 29,
   "id": "75302f72",
   "metadata": {},
   "outputs": [
    {
     "data": {
      "text/plain": [
       "array([[ 0.13948527, -0.072225  , -0.01067874,  0.16203847, -0.01879624],\n",
       "       [ 0.16138835,  0.03549552, -0.09965332, -0.02750975,  0.17639648],\n",
       "       [ 0.13827885, -0.06518757,  0.00117932,  0.09792711, -0.0455887 ],\n",
       "       ...,\n",
       "       [ 0.12386521, -0.1170628 ,  0.06577548, -0.06917833, -0.05533251],\n",
       "       [ 0.15533806, -0.07275285, -0.01644296,  0.06837994,  0.02429075],\n",
       "       [ 0.11232394,  0.01175242,  0.03636011,  0.00137176,  0.01571291]])"
      ]
     },
     "execution_count": 29,
     "metadata": {},
     "output_type": "execute_result"
    }
   ],
   "source": [
    "train_doc_topics"
   ]
  },
  {
   "cell_type": "code",
   "execution_count": null,
   "id": "7ef6050f",
   "metadata": {},
   "outputs": [],
   "source": []
  },
  {
   "cell_type": "markdown",
   "id": "f2f1310a",
   "metadata": {},
   "source": [
    "### Topic Weights for sample article\n",
    "We can sample an article to view its location in the topic space. We draw a ‘Politics’ article that is most (positively) associated with topics 1 and 2 (and 3):"
   ]
  },
  {
   "cell_type": "code",
   "execution_count": 27,
   "id": "37c28855",
   "metadata": {},
   "outputs": [
    {
     "data": {
      "text/plain": [
       "Category                              Politics\n",
       "Heading     Could rivalry overshadow election?\n",
       "Topic 1                                0.27608\n",
       "Topic 2                                 0.2577\n",
       "Topic 3                               0.269267\n",
       "Topic 4                               0.062516\n",
       "Topic 5                               0.057801\n",
       "dtype: object"
      ]
     },
     "execution_count": 27,
     "metadata": {},
     "output_type": "execute_result"
    }
   ],
   "source": [
    "i = randint(0, len(train_docs))\n",
    "(train_docs.iloc[i, :2].append(\n",
    "    pd.Series(train_doc_topics[i], index=topic_labels)))"
   ]
  },
  {
   "cell_type": "code",
   "execution_count": 53,
   "id": "2f618a96",
   "metadata": {},
   "outputs": [
    {
     "data": {
      "text/html": [
       "<div>\n",
       "<style scoped>\n",
       "    .dataframe tbody tr th:only-of-type {\n",
       "        vertical-align: middle;\n",
       "    }\n",
       "\n",
       "    .dataframe tbody tr th {\n",
       "        vertical-align: top;\n",
       "    }\n",
       "\n",
       "    .dataframe thead th {\n",
       "        text-align: right;\n",
       "    }\n",
       "</style>\n",
       "<table border=\"1\" class=\"dataframe\">\n",
       "  <thead>\n",
       "    <tr style=\"text-align: right;\">\n",
       "      <th></th>\n",
       "      <th>Topic 1</th>\n",
       "      <th>Topic 2</th>\n",
       "      <th>Topic 3</th>\n",
       "      <th>Topic 4</th>\n",
       "      <th>Topic 5</th>\n",
       "    </tr>\n",
       "    <tr>\n",
       "      <th>Category</th>\n",
       "      <th></th>\n",
       "      <th></th>\n",
       "      <th></th>\n",
       "      <th></th>\n",
       "      <th></th>\n",
       "    </tr>\n",
       "  </thead>\n",
       "  <tbody>\n",
       "    <tr>\n",
       "      <th>Entertainment</th>\n",
       "      <td>0.139485</td>\n",
       "      <td>-0.072225</td>\n",
       "      <td>-0.010679</td>\n",
       "      <td>0.162038</td>\n",
       "      <td>-0.018796</td>\n",
       "    </tr>\n",
       "    <tr>\n",
       "      <th>Tech</th>\n",
       "      <td>0.161388</td>\n",
       "      <td>0.035496</td>\n",
       "      <td>-0.099653</td>\n",
       "      <td>-0.027510</td>\n",
       "      <td>0.176396</td>\n",
       "    </tr>\n",
       "    <tr>\n",
       "      <th>Entertainment</th>\n",
       "      <td>0.138279</td>\n",
       "      <td>-0.065188</td>\n",
       "      <td>0.001179</td>\n",
       "      <td>0.097927</td>\n",
       "      <td>-0.045589</td>\n",
       "    </tr>\n",
       "    <tr>\n",
       "      <th>Business</th>\n",
       "      <td>0.184543</td>\n",
       "      <td>0.057818</td>\n",
       "      <td>-0.078343</td>\n",
       "      <td>-0.044610</td>\n",
       "      <td>-0.091778</td>\n",
       "    </tr>\n",
       "    <tr>\n",
       "      <th>Sport</th>\n",
       "      <td>0.170239</td>\n",
       "      <td>-0.115598</td>\n",
       "      <td>0.074803</td>\n",
       "      <td>-0.034476</td>\n",
       "      <td>-0.052675</td>\n",
       "    </tr>\n",
       "    <tr>\n",
       "      <th>...</th>\n",
       "      <td>...</td>\n",
       "      <td>...</td>\n",
       "      <td>...</td>\n",
       "      <td>...</td>\n",
       "      <td>...</td>\n",
       "    </tr>\n",
       "    <tr>\n",
       "      <th>Politics</th>\n",
       "      <td>0.298746</td>\n",
       "      <td>0.296472</td>\n",
       "      <td>0.339896</td>\n",
       "      <td>0.086204</td>\n",
       "      <td>0.096711</td>\n",
       "    </tr>\n",
       "    <tr>\n",
       "      <th>Politics</th>\n",
       "      <td>0.219920</td>\n",
       "      <td>0.132803</td>\n",
       "      <td>0.073142</td>\n",
       "      <td>0.042432</td>\n",
       "      <td>0.040861</td>\n",
       "    </tr>\n",
       "    <tr>\n",
       "      <th>Sport</th>\n",
       "      <td>0.123865</td>\n",
       "      <td>-0.117063</td>\n",
       "      <td>0.065775</td>\n",
       "      <td>-0.069178</td>\n",
       "      <td>-0.055333</td>\n",
       "    </tr>\n",
       "    <tr>\n",
       "      <th>Entertainment</th>\n",
       "      <td>0.155338</td>\n",
       "      <td>-0.072753</td>\n",
       "      <td>-0.016443</td>\n",
       "      <td>0.068380</td>\n",
       "      <td>0.024291</td>\n",
       "    </tr>\n",
       "    <tr>\n",
       "      <th>Politics</th>\n",
       "      <td>0.112324</td>\n",
       "      <td>0.011752</td>\n",
       "      <td>0.036360</td>\n",
       "      <td>0.001372</td>\n",
       "      <td>0.015713</td>\n",
       "    </tr>\n",
       "  </tbody>\n",
       "</table>\n",
       "<p>2175 rows × 5 columns</p>\n",
       "</div>"
      ],
      "text/plain": [
       "                Topic 1   Topic 2   Topic 3   Topic 4   Topic 5\n",
       "Category                                                       \n",
       "Entertainment  0.139485 -0.072225 -0.010679  0.162038 -0.018796\n",
       "Tech           0.161388  0.035496 -0.099653 -0.027510  0.176396\n",
       "Entertainment  0.138279 -0.065188  0.001179  0.097927 -0.045589\n",
       "Business       0.184543  0.057818 -0.078343 -0.044610 -0.091778\n",
       "Sport          0.170239 -0.115598  0.074803 -0.034476 -0.052675\n",
       "...                 ...       ...       ...       ...       ...\n",
       "Politics       0.298746  0.296472  0.339896  0.086204  0.096711\n",
       "Politics       0.219920  0.132803  0.073142  0.042432  0.040861\n",
       "Sport          0.123865 -0.117063  0.065775 -0.069178 -0.055333\n",
       "Entertainment  0.155338 -0.072753 -0.016443  0.068380  0.024291\n",
       "Politics       0.112324  0.011752  0.036360  0.001372  0.015713\n",
       "\n",
       "[2175 rows x 5 columns]"
      ]
     },
     "execution_count": 53,
     "metadata": {},
     "output_type": "execute_result"
    }
   ],
   "source": [
    "train_result"
   ]
  },
  {
   "cell_type": "code",
   "execution_count": 28,
   "id": "e7211f99",
   "metadata": {},
   "outputs": [
    {
     "data": {
      "image/png": "[encoded data removed]",
      "text/plain": [
       "<Figure size 1008x360 with 1 Axes>"
      ]
     },
     "metadata": {},
     "output_type": "display_data"
    }
   ],
   "source": [
    "train_result = pd.DataFrame(data=train_doc_topics,\n",
    "                            columns=topic_labels,\n",
    "                            index=train_docs.Category)\n",
    "train_result.groupby(level='Category').mean().plot.bar(figsize=(14, 5), rot=0);"
   ]
  },
  {
   "cell_type": "code",
   "execution_count": 31,
   "id": "c76aa1e8",
   "metadata": {},
   "outputs": [
    {
     "data": {
      "text/plain": [
       "film          41.256270\n",
       "government    38.808175\n",
       "game          36.319726\n",
       "best          36.093477\n",
       "uk            36.082515\n",
       "                ...    \n",
       "fashion        1.560310\n",
       "occasion       1.559319\n",
       "fail           1.558826\n",
       "typical        1.461780\n",
       "notice         1.352107\n",
       "Length: 2917, dtype: float64"
      ]
     },
     "execution_count": 31,
     "metadata": {},
     "output_type": "execute_result"
    }
   ],
   "source": [
    "word_count"
   ]
  },
  {
   "cell_type": "code",
   "execution_count": 33,
   "id": "3f672fff",
   "metadata": {},
   "outputs": [
    {
     "data": {
      "text/plain": [
       "(2917, 5)"
      ]
     },
     "execution_count": 33,
     "metadata": {},
     "output_type": "execute_result"
    }
   ],
   "source": [
    "svd.components_.T.shape"
   ]
  },
  {
   "cell_type": "code",
   "execution_count": 30,
   "id": "27f8057a",
   "metadata": {},
   "outputs": [
    {
     "data": {
      "text/html": [
       "<div>\n",
       "<style scoped>\n",
       "    .dataframe tbody tr th:only-of-type {\n",
       "        vertical-align: middle;\n",
       "    }\n",
       "\n",
       "    .dataframe tbody tr th {\n",
       "        vertical-align: top;\n",
       "    }\n",
       "\n",
       "    .dataframe thead th {\n",
       "        text-align: right;\n",
       "    }\n",
       "</style>\n",
       "<table border=\"1\" class=\"dataframe\">\n",
       "  <thead>\n",
       "    <tr style=\"text-align: right;\">\n",
       "      <th></th>\n",
       "      <th>Topic 1</th>\n",
       "      <th>Topic 2</th>\n",
       "      <th>Topic 3</th>\n",
       "      <th>Topic 4</th>\n",
       "      <th>Topic 5</th>\n",
       "    </tr>\n",
       "  </thead>\n",
       "  <tbody>\n",
       "    <tr>\n",
       "      <th>film</th>\n",
       "      <td>0.096117</td>\n",
       "      <td>-0.157755</td>\n",
       "      <td>-0.037131</td>\n",
       "      <td>0.456760</td>\n",
       "      <td>-0.108419</td>\n",
       "    </tr>\n",
       "    <tr>\n",
       "      <th>government</th>\n",
       "      <td>0.105821</td>\n",
       "      <td>0.158542</td>\n",
       "      <td>0.050579</td>\n",
       "      <td>0.000476</td>\n",
       "      <td>-0.032035</td>\n",
       "    </tr>\n",
       "    <tr>\n",
       "      <th>game</th>\n",
       "      <td>0.092472</td>\n",
       "      <td>-0.165604</td>\n",
       "      <td>0.074222</td>\n",
       "      <td>-0.112915</td>\n",
       "      <td>0.056594</td>\n",
       "    </tr>\n",
       "    <tr>\n",
       "      <th>best</th>\n",
       "      <td>0.088036</td>\n",
       "      <td>-0.148498</td>\n",
       "      <td>0.019054</td>\n",
       "      <td>0.264735</td>\n",
       "      <td>-0.091923</td>\n",
       "    </tr>\n",
       "    <tr>\n",
       "      <th>uk</th>\n",
       "      <td>0.092431</td>\n",
       "      <td>0.030233</td>\n",
       "      <td>-0.055868</td>\n",
       "      <td>0.041345</td>\n",
       "      <td>0.012776</td>\n",
       "    </tr>\n",
       "    <tr>\n",
       "      <th>labour</th>\n",
       "      <td>0.100164</td>\n",
       "      <td>0.237937</td>\n",
       "      <td>0.227080</td>\n",
       "      <td>0.071624</td>\n",
       "      <td>0.054642</td>\n",
       "    </tr>\n",
       "    <tr>\n",
       "      <th>music</th>\n",
       "      <td>0.078805</td>\n",
       "      <td>-0.050253</td>\n",
       "      <td>-0.114264</td>\n",
       "      <td>0.080930</td>\n",
       "      <td>0.140046</td>\n",
       "    </tr>\n",
       "    <tr>\n",
       "      <th>000</th>\n",
       "      <td>0.073360</td>\n",
       "      <td>0.029985</td>\n",
       "      <td>-0.044699</td>\n",
       "      <td>0.003032</td>\n",
       "      <td>-0.013678</td>\n",
       "    </tr>\n",
       "    <tr>\n",
       "      <th>company</th>\n",
       "      <td>0.067638</td>\n",
       "      <td>0.024084</td>\n",
       "      <td>-0.102071</td>\n",
       "      <td>-0.028465</td>\n",
       "      <td>-0.053378</td>\n",
       "    </tr>\n",
       "    <tr>\n",
       "      <th>number</th>\n",
       "      <td>0.070099</td>\n",
       "      <td>-0.039725</td>\n",
       "      <td>-0.019470</td>\n",
       "      <td>0.030363</td>\n",
       "      <td>0.003596</td>\n",
       "    </tr>\n",
       "  </tbody>\n",
       "</table>\n",
       "</div>"
      ],
      "text/plain": [
       "             Topic 1   Topic 2   Topic 3   Topic 4   Topic 5\n",
       "film        0.096117 -0.157755 -0.037131  0.456760 -0.108419\n",
       "government  0.105821  0.158542  0.050579  0.000476 -0.032035\n",
       "game        0.092472 -0.165604  0.074222 -0.112915  0.056594\n",
       "best        0.088036 -0.148498  0.019054  0.264735 -0.091923\n",
       "uk          0.092431  0.030233 -0.055868  0.041345  0.012776\n",
       "labour      0.100164  0.237937  0.227080  0.071624  0.054642\n",
       "music       0.078805 -0.050253 -0.114264  0.080930  0.140046\n",
       "000         0.073360  0.029985 -0.044699  0.003032 -0.013678\n",
       "company     0.067638  0.024084 -0.102071 -0.028465 -0.053378\n",
       "number      0.070099 -0.039725 -0.019470  0.030363  0.003596"
      ]
     },
     "execution_count": 30,
     "metadata": {},
     "output_type": "execute_result"
    }
   ],
   "source": [
    "topics = pd.DataFrame(svd.components_.T, index=tokens, columns=topic_labels)\n",
    "topics.loc[word_count.head(10).index]"
   ]
  },
  {
   "cell_type": "markdown",
   "id": "56ae0568",
   "metadata": {},
   "source": [
    "## Most important words by topic\n",
    "We can also display the words that are most closely associated with each topic (in absolute terms). The topics appear to capture some semantic information but are not clearly differentiated"
   ]
  },
  {
   "cell_type": "code",
   "execution_count": 34,
   "id": "59047cd5",
   "metadata": {},
   "outputs": [
    {
     "data": {
      "image/png": "[encoded data removed]",
      "text/plain": [
       "<Figure size 864x288 with 2 Axes>"
      ]
     },
     "metadata": {},
     "output_type": "display_data"
    }
   ],
   "source": [
    "fig, ax = plt.subplots(figsize=(12, 4))\n",
    "top_words, top_vals = pd.DataFrame(), pd.DataFrame()\n",
    "for topic, words_ in topics.items():\n",
    "    top10 = words_.abs().nlargest(10).index\n",
    "    vals = words_.loc[top10].values\n",
    "    top_vals[topic] = vals\n",
    "    top_words[topic] = top10.tolist()\n",
    "sns.heatmap(pd.DataFrame(top_vals),\n",
    "            annot=top_words,\n",
    "            fmt='',\n",
    "            center=0,\n",
    "            cmap=sns.diverging_palette(0, 255, sep=1, n=256),\n",
    "            ax=ax)\n",
    "ax.set_title('Top Words per Topic')\n",
    "sns.despine()\n",
    "fig.tight_layout()"
   ]
  },
  {
   "cell_type": "markdown",
   "id": "b1f2efd4",
   "metadata": {},
   "source": [
    "## Topics weights for test set\n",
    "The topic assignments for this sample align with the average topic weights for each category illustrated below (Politics is the leftmost). They illustrate how LSI expresses the k topics as directions in a k-dimensional space (below you find a projection of the average topic assignments per category into two-dimensional space).\n",
    "\n",
    "Each category is clearly defined, and the test assignments match with train assignments. However, the weights are both positive and negative, making it more difficult to interpret the topics."
   ]
  },
  {
   "cell_type": "code",
   "execution_count": 35,
   "id": "1ae2802d",
   "metadata": {},
   "outputs": [],
   "source": [
    "test_eval = pd.DataFrame(data=svd.transform(test_dtm),\n",
    "                         columns=topic_labels,\n",
    "                         index=test_docs.Category)"
   ]
  },
  {
   "cell_type": "code",
   "execution_count": 36,
   "id": "20bbbd2f",
   "metadata": {},
   "outputs": [
    {
     "data": {
      "image/png": "[encoded data removed]",
      "text/plain": [
       "<Figure size 1356.86x720 with 2 Axes>"
      ]
     },
     "metadata": {},
     "output_type": "display_data"
    }
   ],
   "source": [
    "sns.set(font_scale=1.3)\n",
    "result = pd.melt(train_result.assign(Data='Train').append(\n",
    "    test_eval.assign(Data='Test')).reset_index(),\n",
    "                 id_vars=['Data', 'Category'],\n",
    "                 var_name='Topic',\n",
    "                 value_name='Weight')\n",
    "\n",
    "g = sns.catplot(x='Category',\n",
    "                y='Weight',\n",
    "                hue='Topic',\n",
    "                row='Data',\n",
    "                kind='bar',\n",
    "                data=result,\n",
    "                aspect=3.5);"
   ]
  },
  {
   "cell_type": "markdown",
   "id": "b9bff5ec",
   "metadata": {},
   "source": [
    "## Supervised Evaluation\n",
    "Lets assign each topic to its most prominent counterpart and then solve for classification problem :)"
   ]
  },
  {
   "cell_type": "code",
   "execution_count": 46,
   "id": "6680d016",
   "metadata": {},
   "outputs": [
    {
     "data": {
      "text/plain": [
       "(2175,)"
      ]
     },
     "execution_count": 46,
     "metadata": {},
     "output_type": "execute_result"
    }
   ],
   "source": [
    "np.argmax(train_doc_topics,axis=1).shape"
   ]
  },
  {
   "cell_type": "code",
   "execution_count": 92,
   "id": "88adc708",
   "metadata": {},
   "outputs": [],
   "source": [
    "classes = list(train_docs['Category'].unique())"
   ]
  },
  {
   "cell_type": "code",
   "execution_count": 59,
   "id": "20faed8d",
   "metadata": {},
   "outputs": [],
   "source": [
    "train_result_pred = train_result.copy()\n"
   ]
  },
  {
   "cell_type": "code",
   "execution_count": 60,
   "id": "c5725277",
   "metadata": {},
   "outputs": [
    {
     "data": {
      "text/html": [
       "<div>\n",
       "<style scoped>\n",
       "    .dataframe tbody tr th:only-of-type {\n",
       "        vertical-align: middle;\n",
       "    }\n",
       "\n",
       "    .dataframe tbody tr th {\n",
       "        vertical-align: top;\n",
       "    }\n",
       "\n",
       "    .dataframe thead th {\n",
       "        text-align: right;\n",
       "    }\n",
       "</style>\n",
       "<table border=\"1\" class=\"dataframe\">\n",
       "  <thead>\n",
       "    <tr style=\"text-align: right;\">\n",
       "      <th></th>\n",
       "      <th>Topic 1</th>\n",
       "      <th>Topic 2</th>\n",
       "      <th>Topic 3</th>\n",
       "      <th>Topic 4</th>\n",
       "      <th>Topic 5</th>\n",
       "      <th>pred</th>\n",
       "    </tr>\n",
       "    <tr>\n",
       "      <th>Category</th>\n",
       "      <th></th>\n",
       "      <th></th>\n",
       "      <th></th>\n",
       "      <th></th>\n",
       "      <th></th>\n",
       "      <th></th>\n",
       "    </tr>\n",
       "  </thead>\n",
       "  <tbody>\n",
       "    <tr>\n",
       "      <th>Entertainment</th>\n",
       "      <td>0.139485</td>\n",
       "      <td>-0.072225</td>\n",
       "      <td>-0.010679</td>\n",
       "      <td>0.162038</td>\n",
       "      <td>-0.018796</td>\n",
       "      <td>4</td>\n",
       "    </tr>\n",
       "    <tr>\n",
       "      <th>Tech</th>\n",
       "      <td>0.161388</td>\n",
       "      <td>0.035496</td>\n",
       "      <td>-0.099653</td>\n",
       "      <td>-0.027510</td>\n",
       "      <td>0.176396</td>\n",
       "      <td>5</td>\n",
       "    </tr>\n",
       "    <tr>\n",
       "      <th>Entertainment</th>\n",
       "      <td>0.138279</td>\n",
       "      <td>-0.065188</td>\n",
       "      <td>0.001179</td>\n",
       "      <td>0.097927</td>\n",
       "      <td>-0.045589</td>\n",
       "      <td>1</td>\n",
       "    </tr>\n",
       "    <tr>\n",
       "      <th>Business</th>\n",
       "      <td>0.184543</td>\n",
       "      <td>0.057818</td>\n",
       "      <td>-0.078343</td>\n",
       "      <td>-0.044610</td>\n",
       "      <td>-0.091778</td>\n",
       "      <td>1</td>\n",
       "    </tr>\n",
       "    <tr>\n",
       "      <th>Sport</th>\n",
       "      <td>0.170239</td>\n",
       "      <td>-0.115598</td>\n",
       "      <td>0.074803</td>\n",
       "      <td>-0.034476</td>\n",
       "      <td>-0.052675</td>\n",
       "      <td>1</td>\n",
       "    </tr>\n",
       "    <tr>\n",
       "      <th>...</th>\n",
       "      <td>...</td>\n",
       "      <td>...</td>\n",
       "      <td>...</td>\n",
       "      <td>...</td>\n",
       "      <td>...</td>\n",
       "      <td>...</td>\n",
       "    </tr>\n",
       "    <tr>\n",
       "      <th>Politics</th>\n",
       "      <td>0.298746</td>\n",
       "      <td>0.296472</td>\n",
       "      <td>0.339896</td>\n",
       "      <td>0.086204</td>\n",
       "      <td>0.096711</td>\n",
       "      <td>3</td>\n",
       "    </tr>\n",
       "    <tr>\n",
       "      <th>Politics</th>\n",
       "      <td>0.219920</td>\n",
       "      <td>0.132803</td>\n",
       "      <td>0.073142</td>\n",
       "      <td>0.042432</td>\n",
       "      <td>0.040861</td>\n",
       "      <td>1</td>\n",
       "    </tr>\n",
       "    <tr>\n",
       "      <th>Sport</th>\n",
       "      <td>0.123865</td>\n",
       "      <td>-0.117063</td>\n",
       "      <td>0.065775</td>\n",
       "      <td>-0.069178</td>\n",
       "      <td>-0.055333</td>\n",
       "      <td>1</td>\n",
       "    </tr>\n",
       "    <tr>\n",
       "      <th>Entertainment</th>\n",
       "      <td>0.155338</td>\n",
       "      <td>-0.072753</td>\n",
       "      <td>-0.016443</td>\n",
       "      <td>0.068380</td>\n",
       "      <td>0.024291</td>\n",
       "      <td>1</td>\n",
       "    </tr>\n",
       "    <tr>\n",
       "      <th>Politics</th>\n",
       "      <td>0.112324</td>\n",
       "      <td>0.011752</td>\n",
       "      <td>0.036360</td>\n",
       "      <td>0.001372</td>\n",
       "      <td>0.015713</td>\n",
       "      <td>1</td>\n",
       "    </tr>\n",
       "  </tbody>\n",
       "</table>\n",
       "<p>2175 rows × 6 columns</p>\n",
       "</div>"
      ],
      "text/plain": [
       "                Topic 1   Topic 2   Topic 3   Topic 4   Topic 5  pred\n",
       "Category                                                             \n",
       "Entertainment  0.139485 -0.072225 -0.010679  0.162038 -0.018796     4\n",
       "Tech           0.161388  0.035496 -0.099653 -0.027510  0.176396     5\n",
       "Entertainment  0.138279 -0.065188  0.001179  0.097927 -0.045589     1\n",
       "Business       0.184543  0.057818 -0.078343 -0.044610 -0.091778     1\n",
       "Sport          0.170239 -0.115598  0.074803 -0.034476 -0.052675     1\n",
       "...                 ...       ...       ...       ...       ...   ...\n",
       "Politics       0.298746  0.296472  0.339896  0.086204  0.096711     3\n",
       "Politics       0.219920  0.132803  0.073142  0.042432  0.040861     1\n",
       "Sport          0.123865 -0.117063  0.065775 -0.069178 -0.055333     1\n",
       "Entertainment  0.155338 -0.072753 -0.016443  0.068380  0.024291     1\n",
       "Politics       0.112324  0.011752  0.036360  0.001372  0.015713     1\n",
       "\n",
       "[2175 rows x 6 columns]"
      ]
     },
     "execution_count": 60,
     "metadata": {},
     "output_type": "execute_result"
    }
   ],
   "source": [
    "train_result_pred['pred'] = train_result_pred.apply(lambda x : np.argmax(x)+1,axis=1)\n",
    "train_result_pred"
   ]
  },
  {
   "cell_type": "code",
   "execution_count": 64,
   "id": "c994cc29",
   "metadata": {},
   "outputs": [
    {
     "data": {
      "text/html": [
       "<div>\n",
       "<style scoped>\n",
       "    .dataframe tbody tr th:only-of-type {\n",
       "        vertical-align: middle;\n",
       "    }\n",
       "\n",
       "    .dataframe tbody tr th {\n",
       "        vertical-align: top;\n",
       "    }\n",
       "\n",
       "    .dataframe thead th {\n",
       "        text-align: right;\n",
       "    }\n",
       "</style>\n",
       "<table border=\"1\" class=\"dataframe\">\n",
       "  <thead>\n",
       "    <tr style=\"text-align: right;\">\n",
       "      <th></th>\n",
       "      <th></th>\n",
       "      <th>Topic 1</th>\n",
       "      <th>Topic 2</th>\n",
       "      <th>Topic 3</th>\n",
       "      <th>Topic 4</th>\n",
       "      <th>Topic 5</th>\n",
       "    </tr>\n",
       "    <tr>\n",
       "      <th>pred</th>\n",
       "      <th>Category</th>\n",
       "      <th></th>\n",
       "      <th></th>\n",
       "      <th></th>\n",
       "      <th></th>\n",
       "      <th></th>\n",
       "    </tr>\n",
       "  </thead>\n",
       "  <tbody>\n",
       "    <tr>\n",
       "      <th rowspan=\"5\" valign=\"top\">1</th>\n",
       "      <th>Business</th>\n",
       "      <td>499</td>\n",
       "      <td>499</td>\n",
       "      <td>499</td>\n",
       "      <td>499</td>\n",
       "      <td>499</td>\n",
       "    </tr>\n",
       "    <tr>\n",
       "      <th>Sport</th>\n",
       "      <td>497</td>\n",
       "      <td>497</td>\n",
       "      <td>497</td>\n",
       "      <td>497</td>\n",
       "      <td>497</td>\n",
       "    </tr>\n",
       "    <tr>\n",
       "      <th>Politics</th>\n",
       "      <td>321</td>\n",
       "      <td>321</td>\n",
       "      <td>321</td>\n",
       "      <td>321</td>\n",
       "      <td>321</td>\n",
       "    </tr>\n",
       "    <tr>\n",
       "      <th>Tech</th>\n",
       "      <td>283</td>\n",
       "      <td>283</td>\n",
       "      <td>283</td>\n",
       "      <td>283</td>\n",
       "      <td>283</td>\n",
       "    </tr>\n",
       "    <tr>\n",
       "      <th>Entertainment</th>\n",
       "      <td>230</td>\n",
       "      <td>230</td>\n",
       "      <td>230</td>\n",
       "      <td>230</td>\n",
       "      <td>230</td>\n",
       "    </tr>\n",
       "    <tr>\n",
       "      <th>4</th>\n",
       "      <th>Entertainment</th>\n",
       "      <td>147</td>\n",
       "      <td>147</td>\n",
       "      <td>147</td>\n",
       "      <td>147</td>\n",
       "      <td>147</td>\n",
       "    </tr>\n",
       "    <tr>\n",
       "      <th>5</th>\n",
       "      <th>Tech</th>\n",
       "      <td>107</td>\n",
       "      <td>107</td>\n",
       "      <td>107</td>\n",
       "      <td>107</td>\n",
       "      <td>107</td>\n",
       "    </tr>\n",
       "    <tr>\n",
       "      <th>2</th>\n",
       "      <th>Politics</th>\n",
       "      <td>72</td>\n",
       "      <td>72</td>\n",
       "      <td>72</td>\n",
       "      <td>72</td>\n",
       "      <td>72</td>\n",
       "    </tr>\n",
       "    <tr>\n",
       "      <th rowspan=\"2\" valign=\"top\">3</th>\n",
       "      <th>Politics</th>\n",
       "      <td>13</td>\n",
       "      <td>13</td>\n",
       "      <td>13</td>\n",
       "      <td>13</td>\n",
       "      <td>13</td>\n",
       "    </tr>\n",
       "    <tr>\n",
       "      <th>Sport</th>\n",
       "      <td>2</td>\n",
       "      <td>2</td>\n",
       "      <td>2</td>\n",
       "      <td>2</td>\n",
       "      <td>2</td>\n",
       "    </tr>\n",
       "    <tr>\n",
       "      <th>4</th>\n",
       "      <th>Tech</th>\n",
       "      <td>2</td>\n",
       "      <td>2</td>\n",
       "      <td>2</td>\n",
       "      <td>2</td>\n",
       "      <td>2</td>\n",
       "    </tr>\n",
       "    <tr>\n",
       "      <th>5</th>\n",
       "      <th>Politics</th>\n",
       "      <td>2</td>\n",
       "      <td>2</td>\n",
       "      <td>2</td>\n",
       "      <td>2</td>\n",
       "      <td>2</td>\n",
       "    </tr>\n",
       "  </tbody>\n",
       "</table>\n",
       "</div>"
      ],
      "text/plain": [
       "                    Topic 1  Topic 2  Topic 3  Topic 4  Topic 5\n",
       "pred Category                                                  \n",
       "1    Business           499      499      499      499      499\n",
       "     Sport              497      497      497      497      497\n",
       "     Politics           321      321      321      321      321\n",
       "     Tech               283      283      283      283      283\n",
       "     Entertainment      230      230      230      230      230\n",
       "4    Entertainment      147      147      147      147      147\n",
       "5    Tech               107      107      107      107      107\n",
       "2    Politics            72       72       72       72       72\n",
       "3    Politics            13       13       13       13       13\n",
       "     Sport                2        2        2        2        2\n",
       "4    Tech                 2        2        2        2        2\n",
       "5    Politics             2        2        2        2        2"
      ]
     },
     "execution_count": 64,
     "metadata": {},
     "output_type": "execute_result"
    }
   ],
   "source": [
    "train_result_pred.reset_index().groupby(['pred','Category']).count().sort_values('Topic 1',ascending=False)"
   ]
  },
  {
   "cell_type": "code",
   "execution_count": 69,
   "id": "53741c2e",
   "metadata": {},
   "outputs": [
    {
     "data": {
      "text/html": [
       "<div>\n",
       "<style scoped>\n",
       "    .dataframe tbody tr th:only-of-type {\n",
       "        vertical-align: middle;\n",
       "    }\n",
       "\n",
       "    .dataframe tbody tr th {\n",
       "        vertical-align: top;\n",
       "    }\n",
       "\n",
       "    .dataframe thead th {\n",
       "        text-align: right;\n",
       "    }\n",
       "</style>\n",
       "<table border=\"1\" class=\"dataframe\">\n",
       "  <thead>\n",
       "    <tr style=\"text-align: right;\">\n",
       "      <th></th>\n",
       "      <th>pred_category</th>\n",
       "    </tr>\n",
       "    <tr>\n",
       "      <th>pred</th>\n",
       "      <th></th>\n",
       "    </tr>\n",
       "  </thead>\n",
       "  <tbody>\n",
       "    <tr>\n",
       "      <th>1</th>\n",
       "      <td>Business</td>\n",
       "    </tr>\n",
       "    <tr>\n",
       "      <th>2</th>\n",
       "      <td>Politics</td>\n",
       "    </tr>\n",
       "    <tr>\n",
       "      <th>3</th>\n",
       "      <td>Politics</td>\n",
       "    </tr>\n",
       "    <tr>\n",
       "      <th>4</th>\n",
       "      <td>Entertainment</td>\n",
       "    </tr>\n",
       "    <tr>\n",
       "      <th>5</th>\n",
       "      <td>Tech</td>\n",
       "    </tr>\n",
       "  </tbody>\n",
       "</table>\n",
       "</div>"
      ],
      "text/plain": [
       "      pred_category\n",
       "pred               \n",
       "1          Business\n",
       "2          Politics\n",
       "3          Politics\n",
       "4     Entertainment\n",
       "5              Tech"
      ]
     },
     "execution_count": 69,
     "metadata": {},
     "output_type": "execute_result"
    }
   ],
   "source": [
    "topic_class_mapping = train_result_pred.reset_index().groupby(['pred','Category']).count().sort_values('Topic 1',ascending=False)\n",
    "topic_class_mapping = topic_class_mapping.reset_index().groupby('pred').agg({'Category':'first'})\n",
    "topic_class_mapping.columns = ['pred_category']\n",
    "topic_class_mapping"
   ]
  },
  {
   "cell_type": "code",
   "execution_count": 72,
   "id": "eda35313",
   "metadata": {},
   "outputs": [],
   "source": [
    "from sklearn.metrics import confusion_matrix\n"
   ]
  },
  {
   "cell_type": "code",
   "execution_count": 93,
   "id": "719d28a0",
   "metadata": {},
   "outputs": [
    {
     "data": {
      "text/plain": [
       "['Entertainment', 'Tech', 'Business', 'Sport', 'Politics']"
      ]
     },
     "execution_count": 93,
     "metadata": {},
     "output_type": "execute_result"
    }
   ],
   "source": [
    "classes"
   ]
  },
  {
   "cell_type": "code",
   "execution_count": 94,
   "id": "cb4467ba",
   "metadata": {},
   "outputs": [],
   "source": [
    "eval_train_pd = train_result_pred.reset_index().merge(topic_class_mapping.reset_index(),on='pred')\n",
    "cm = confusion_matrix(eval_train_pd['Category'],eval_train_pd['pred_category'],labels=classes)"
   ]
  },
  {
   "cell_type": "code",
   "execution_count": 116,
   "id": "0fbd63ba",
   "metadata": {},
   "outputs": [
    {
     "data": {
      "image/png": "[encoded data removed]",
      "text/plain": [
       "<Figure size 720x504 with 2 Axes>"
      ]
     },
     "metadata": {},
     "output_type": "display_data"
    }
   ],
   "source": [
    "\n",
    "df_cm = pd.DataFrame(cm/cm.sum(axis=1)[:,None], index = [i for i in classes],\n",
    "                  columns = [i for i in classes])\n",
    "plt.figure(figsize = (10,7))\n",
    "plt.title('Confusion Matrix')\n",
    "sns.heatmap(df_cm, annot=True)\n",
    "plt.show()"
   ]
  },
  {
   "cell_type": "code",
   "execution_count": null,
   "id": "b4f93007",
   "metadata": {},
   "outputs": [],
   "source": [
    "train_result_pred = pd.DataFrame(data=train_result_pred,\n",
    "                            columns=topic_labels,\n",
    "                            index=train_docs.Category)\n",
    "train_result.groupby(level='Category').mean().plot.bar(figsize=(14, 5), rot=0);"
   ]
  },
  {
   "cell_type": "markdown",
   "id": "5f418c3a",
   "metadata": {},
   "source": [
    "## Categories in 2D\n",
    "The below plot shows the projections of the five topics into a 2D space.\n",
    "\n"
   ]
  },
  {
   "cell_type": "code",
   "execution_count": 117,
   "id": "54e38005",
   "metadata": {},
   "outputs": [
    {
     "data": {
      "text/html": [
       "<div>\n",
       "<style scoped>\n",
       "    .dataframe tbody tr th:only-of-type {\n",
       "        vertical-align: middle;\n",
       "    }\n",
       "\n",
       "    .dataframe tbody tr th {\n",
       "        vertical-align: top;\n",
       "    }\n",
       "\n",
       "    .dataframe thead th {\n",
       "        text-align: right;\n",
       "    }\n",
       "</style>\n",
       "<table border=\"1\" class=\"dataframe\">\n",
       "  <thead>\n",
       "    <tr style=\"text-align: right;\">\n",
       "      <th></th>\n",
       "      <th>Topic 1</th>\n",
       "      <th>Topic 2</th>\n",
       "      <th>Topic 3</th>\n",
       "      <th>Topic 4</th>\n",
       "      <th>Topic 5</th>\n",
       "    </tr>\n",
       "    <tr>\n",
       "      <th>Category</th>\n",
       "      <th></th>\n",
       "      <th></th>\n",
       "      <th></th>\n",
       "      <th></th>\n",
       "      <th></th>\n",
       "    </tr>\n",
       "  </thead>\n",
       "  <tbody>\n",
       "    <tr>\n",
       "      <th>Entertainment</th>\n",
       "      <td>0.139485</td>\n",
       "      <td>-0.072225</td>\n",
       "      <td>-0.010679</td>\n",
       "      <td>0.162038</td>\n",
       "      <td>-0.018796</td>\n",
       "    </tr>\n",
       "    <tr>\n",
       "      <th>Tech</th>\n",
       "      <td>0.161388</td>\n",
       "      <td>0.035496</td>\n",
       "      <td>-0.099653</td>\n",
       "      <td>-0.027510</td>\n",
       "      <td>0.176396</td>\n",
       "    </tr>\n",
       "    <tr>\n",
       "      <th>Entertainment</th>\n",
       "      <td>0.138279</td>\n",
       "      <td>-0.065188</td>\n",
       "      <td>0.001179</td>\n",
       "      <td>0.097927</td>\n",
       "      <td>-0.045589</td>\n",
       "    </tr>\n",
       "    <tr>\n",
       "      <th>Business</th>\n",
       "      <td>0.184543</td>\n",
       "      <td>0.057818</td>\n",
       "      <td>-0.078343</td>\n",
       "      <td>-0.044610</td>\n",
       "      <td>-0.091778</td>\n",
       "    </tr>\n",
       "    <tr>\n",
       "      <th>Sport</th>\n",
       "      <td>0.170239</td>\n",
       "      <td>-0.115598</td>\n",
       "      <td>0.074803</td>\n",
       "      <td>-0.034476</td>\n",
       "      <td>-0.052675</td>\n",
       "    </tr>\n",
       "    <tr>\n",
       "      <th>...</th>\n",
       "      <td>...</td>\n",
       "      <td>...</td>\n",
       "      <td>...</td>\n",
       "      <td>...</td>\n",
       "      <td>...</td>\n",
       "    </tr>\n",
       "    <tr>\n",
       "      <th>Politics</th>\n",
       "      <td>0.298746</td>\n",
       "      <td>0.296472</td>\n",
       "      <td>0.339896</td>\n",
       "      <td>0.086204</td>\n",
       "      <td>0.096711</td>\n",
       "    </tr>\n",
       "    <tr>\n",
       "      <th>Politics</th>\n",
       "      <td>0.219920</td>\n",
       "      <td>0.132803</td>\n",
       "      <td>0.073142</td>\n",
       "      <td>0.042432</td>\n",
       "      <td>0.040861</td>\n",
       "    </tr>\n",
       "    <tr>\n",
       "      <th>Sport</th>\n",
       "      <td>0.123865</td>\n",
       "      <td>-0.117063</td>\n",
       "      <td>0.065775</td>\n",
       "      <td>-0.069178</td>\n",
       "      <td>-0.055333</td>\n",
       "    </tr>\n",
       "    <tr>\n",
       "      <th>Entertainment</th>\n",
       "      <td>0.155338</td>\n",
       "      <td>-0.072753</td>\n",
       "      <td>-0.016443</td>\n",
       "      <td>0.068380</td>\n",
       "      <td>0.024291</td>\n",
       "    </tr>\n",
       "    <tr>\n",
       "      <th>Politics</th>\n",
       "      <td>0.112324</td>\n",
       "      <td>0.011752</td>\n",
       "      <td>0.036360</td>\n",
       "      <td>0.001372</td>\n",
       "      <td>0.015713</td>\n",
       "    </tr>\n",
       "  </tbody>\n",
       "</table>\n",
       "<p>2175 rows × 5 columns</p>\n",
       "</div>"
      ],
      "text/plain": [
       "                Topic 1   Topic 2   Topic 3   Topic 4   Topic 5\n",
       "Category                                                       \n",
       "Entertainment  0.139485 -0.072225 -0.010679  0.162038 -0.018796\n",
       "Tech           0.161388  0.035496 -0.099653 -0.027510  0.176396\n",
       "Entertainment  0.138279 -0.065188  0.001179  0.097927 -0.045589\n",
       "Business       0.184543  0.057818 -0.078343 -0.044610 -0.091778\n",
       "Sport          0.170239 -0.115598  0.074803 -0.034476 -0.052675\n",
       "...                 ...       ...       ...       ...       ...\n",
       "Politics       0.298746  0.296472  0.339896  0.086204  0.096711\n",
       "Politics       0.219920  0.132803  0.073142  0.042432  0.040861\n",
       "Sport          0.123865 -0.117063  0.065775 -0.069178 -0.055333\n",
       "Entertainment  0.155338 -0.072753 -0.016443  0.068380  0.024291\n",
       "Politics       0.112324  0.011752  0.036360  0.001372  0.015713\n",
       "\n",
       "[2175 rows x 5 columns]"
      ]
     },
     "execution_count": 117,
     "metadata": {},
     "output_type": "execute_result"
    }
   ],
   "source": [
    "train_result"
   ]
  },
  {
   "cell_type": "code",
   "execution_count": 38,
   "id": "56cb3d9b",
   "metadata": {},
   "outputs": [],
   "source": [
    "pca = PCA(n_components=2)\n",
    "svd2d = pd.DataFrame(pca.fit_transform(train_result),\n",
    "                     columns=['PC1',\n",
    "                              'PC2']).assign(Category=train_docs.Category)\n",
    "categories_2d = svd2d.groupby('Category').mean()"
   ]
  },
  {
   "cell_type": "code",
   "execution_count": 39,
   "id": "e23e45bd",
   "metadata": {},
   "outputs": [
    {
     "data": {
      "image/png": "[encoded data removed]",
      "text/plain": [
       "<Figure size 432x288 with 1 Axes>"
      ]
     },
     "metadata": {},
     "output_type": "display_data"
    }
   ],
   "source": [
    "plt.quiver(np.zeros(5),\n",
    "           np.zeros(5),\n",
    "           categories_2d.PC1.values,\n",
    "           categories_2d.PC2.values,\n",
    "           scale=.035)\n",
    "plt.title('Topic Directions in 2D Space');"
   ]
  },
  {
   "cell_type": "markdown",
   "id": "c87d86b8",
   "metadata": {},
   "source": [
    "## LDA: Sim"
   ]
  },
  {
   "cell_type": "code",
   "execution_count": 118,
   "id": "1b0218ad",
   "metadata": {},
   "outputs": [],
   "source": [
    "from ipywidgets import interact, FloatSlider\n"
   ]
  },
  {
   "cell_type": "code",
   "execution_count": 120,
   "id": "8305d44a",
   "metadata": {},
   "outputs": [
    {
     "data": {
      "application/vnd.jupyter.widget-view+json": {
       "model_id": "5fc226cf1722481db7dddf9ec8a48524",
       "version_major": 2,
       "version_minor": 0
      },
      "text/plain": [
       "interactive(children=(FloatSlider(value=1.0, continuous_update=False, description='Alpha', max=10.0, min=0.01,…"
      ]
     },
     "metadata": {},
     "output_type": "display_data"
    }
   ],
   "source": [
    "f = FloatSlider(value=1,\n",
    "                min=1e-2,\n",
    "                max=10,\n",
    "                step=1e-2,\n",
    "                continuous_update=False,\n",
    "                description='Alpha')\n",
    "\n",
    "@interact(alpha=f)\n",
    "def sample_dirichlet(alpha):\n",
    "    topics = 10\n",
    "    draws = 9\n",
    "    alphas = np.full(shape=topics, fill_value=alpha)\n",
    "    samples = np.random.dirichlet(alpha=alphas, size=draws)\n",
    "\n",
    "    fig, axes = plt.subplots(nrows=3,\n",
    "                             ncols=3,\n",
    "                             sharex=True,\n",
    "                             sharey=True,\n",
    "                             figsize=(14, 8))\n",
    "    axes = axes.flatten()\n",
    "    plt.setp(axes, ylim=(0, 1))\n",
    "    for i, sample in enumerate(samples):\n",
    "        axes[i].bar(x=list(range(10)), height=sample,\n",
    "                    color=sns.color_palette(\"Set2\", 10))\n",
    "    fig.suptitle('Dirichlet Allocation | 10 Topics, 9 Samples')\n",
    "    sns.despine()\n",
    "    fig.tight_layout()\n",
    "    plt.subplots_adjust(top=.95)"
   ]
  },
  {
   "cell_type": "code",
   "execution_count": null,
   "id": "96a9cce1",
   "metadata": {},
   "outputs": [],
   "source": []
  }
 ],
 "metadata": {
  "kernelspec": {
   "display_name": "Python 3 (ipykernel)",
   "language": "python",
   "name": "python3"
  },
  "language_info": {
   "codemirror_mode": {
    "name": "ipython",
    "version": 3
   },
   "file_extension": ".py",
   "mimetype": "text/x-python",
   "name": "python",
   "nbconvert_exporter": "python",
   "pygments_lexer": "ipython3",
   "version": "3.9.7"
  }
 },
 "nbformat": 4,
 "nbformat_minor": 5
}
