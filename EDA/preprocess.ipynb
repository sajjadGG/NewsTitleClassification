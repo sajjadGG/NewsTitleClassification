{
 "cells": [
  {
   "cell_type": "code",
   "execution_count": 1,
   "metadata": {},
   "outputs": [],
   "source": [
    "import pandas as pd\n",
    "import matplotlib.pyplot as plt\n",
    "import numpy as np\n",
    "import seaborn as sns\n",
    "import json"
   ]
  },
  {
   "cell_type": "code",
   "execution_count": 2,
   "metadata": {},
   "outputs": [],
   "source": [
    "sns.set_style('white')\n",
    "sns.set(rc={'figure.figsize':(12,8)})"
   ]
  },
  {
   "cell_type": "code",
   "execution_count": 4,
   "metadata": {},
   "outputs": [],
   "source": [
    "def load_json_item(path,columns=['title','category']):\n",
    "    data = []\n",
    "    with open(path,'r',encoding='utf-8') as f:\n",
    "        for line in f:\n",
    "            data.append({k:v for k,v in json.loads(line).items() if k in columns})\n",
    "    return pd.DataFrame(data,columns=columns)"
   ]
  },
  {
   "cell_type": "code",
   "execution_count": null,
   "metadata": {},
   "outputs": [],
   "source": []
  },
  {
   "cell_type": "code",
   "execution_count": 9,
   "metadata": {},
   "outputs": [
    {
     "data": {
      "text/html": [
       "<div>\n",
       "<style scoped>\n",
       "    .dataframe tbody tr th:only-of-type {\n",
       "        vertical-align: middle;\n",
       "    }\n",
       "\n",
       "    .dataframe tbody tr th {\n",
       "        vertical-align: top;\n",
       "    }\n",
       "\n",
       "    .dataframe thead th {\n",
       "        text-align: right;\n",
       "    }\n",
       "</style>\n",
       "<table border=\"1\" class=\"dataframe\">\n",
       "  <thead>\n",
       "    <tr style=\"text-align: right;\">\n",
       "      <th></th>\n",
       "      <th>title</th>\n",
       "      <th>category</th>\n",
       "    </tr>\n",
       "  </thead>\n",
       "  <tbody>\n",
       "    <tr>\n",
       "      <th>0</th>\n",
       "      <td>Pence, Tiptoeing Away From Trump, Lays Groundw...</td>\n",
       "      <td>politics</td>\n",
       "    </tr>\n",
       "    <tr>\n",
       "      <th>1</th>\n",
       "      <td>Jan. 6 Inquiry Presses Republican Lawmaker Abo...</td>\n",
       "      <td>politics</td>\n",
       "    </tr>\n",
       "    <tr>\n",
       "      <th>2</th>\n",
       "      <td>A Conservative Lawyer’s New Target After Abort...</td>\n",
       "      <td>politics</td>\n",
       "    </tr>\n",
       "    <tr>\n",
       "      <th>3</th>\n",
       "      <td>Key Witness in Durham Case Offers Detailed Tes...</td>\n",
       "      <td>politics</td>\n",
       "    </tr>\n",
       "    <tr>\n",
       "      <th>4</th>\n",
       "      <td>Supreme Court Limits Inmates’ Challenges Based...</td>\n",
       "      <td>politics</td>\n",
       "    </tr>\n",
       "  </tbody>\n",
       "</table>\n",
       "</div>"
      ],
      "text/plain": [
       "                                               title  category\n",
       "0  Pence, Tiptoeing Away From Trump, Lays Groundw...  politics\n",
       "1  Jan. 6 Inquiry Presses Republican Lawmaker Abo...  politics\n",
       "2  A Conservative Lawyer’s New Target After Abort...  politics\n",
       "3  Key Witness in Durham Case Offers Detailed Tes...  politics\n",
       "4  Supreme Court Limits Inmates’ Challenges Based...  politics"
      ]
     },
     "execution_count": 9,
     "metadata": {},
     "output_type": "execute_result"
    }
   ],
   "source": [
    "path = '../src/items.json'\n",
    "dff = load_json_item(path)\n",
    "dff['category'] = dff['category'].apply(lambda x: x.lower())\n",
    "dff.head()"
   ]
  },
  {
   "cell_type": "code",
   "execution_count": 13,
   "metadata": {},
   "outputs": [],
   "source": [
    "df = pd.concat([df,dff])"
   ]
  },
  {
   "cell_type": "code",
   "execution_count": 14,
   "metadata": {},
   "outputs": [
    {
     "data": {
      "text/html": [
       "<div>\n",
       "<style scoped>\n",
       "    .dataframe tbody tr th:only-of-type {\n",
       "        vertical-align: middle;\n",
       "    }\n",
       "\n",
       "    .dataframe tbody tr th {\n",
       "        vertical-align: top;\n",
       "    }\n",
       "\n",
       "    .dataframe thead th {\n",
       "        text-align: right;\n",
       "    }\n",
       "</style>\n",
       "<table border=\"1\" class=\"dataframe\">\n",
       "  <thead>\n",
       "    <tr style=\"text-align: right;\">\n",
       "      <th></th>\n",
       "      <th>title</th>\n",
       "      <th>category</th>\n",
       "    </tr>\n",
       "  </thead>\n",
       "  <tbody>\n",
       "    <tr>\n",
       "      <th>0</th>\n",
       "      <td>There Were 2 Mass Shootings In Texas Last Week...</td>\n",
       "      <td>crime</td>\n",
       "    </tr>\n",
       "    <tr>\n",
       "      <th>1</th>\n",
       "      <td>Will Smith Joins Diplo And Nicky Jam For The 2...</td>\n",
       "      <td>entertainment</td>\n",
       "    </tr>\n",
       "    <tr>\n",
       "      <th>2</th>\n",
       "      <td>Hugh Grant Marries For The First Time At Age 57</td>\n",
       "      <td>entertainment</td>\n",
       "    </tr>\n",
       "    <tr>\n",
       "      <th>3</th>\n",
       "      <td>Jim Carrey Blasts 'Castrato' Adam Schiff And D...</td>\n",
       "      <td>entertainment</td>\n",
       "    </tr>\n",
       "    <tr>\n",
       "      <th>4</th>\n",
       "      <td>Julianna Margulies Uses Donald Trump Poop Bags...</td>\n",
       "      <td>entertainment</td>\n",
       "    </tr>\n",
       "  </tbody>\n",
       "</table>\n",
       "</div>"
      ],
      "text/plain": [
       "                                               title       category\n",
       "0  There Were 2 Mass Shootings In Texas Last Week...          crime\n",
       "1  Will Smith Joins Diplo And Nicky Jam For The 2...  entertainment\n",
       "2    Hugh Grant Marries For The First Time At Age 57  entertainment\n",
       "3  Jim Carrey Blasts 'Castrato' Adam Schiff And D...  entertainment\n",
       "4  Julianna Margulies Uses Donald Trump Poop Bags...  entertainment"
      ]
     },
     "execution_count": 14,
     "metadata": {},
     "output_type": "execute_result"
    }
   ],
   "source": [
    "df.head()"
   ]
  },
  {
   "cell_type": "code",
   "execution_count": 15,
   "metadata": {},
   "outputs": [
    {
     "data": {
      "text/plain": [
       "(array([ 0,  1,  2,  3,  4,  5,  6,  7,  8,  9, 10, 11, 12, 13, 14, 15, 16,\n",
       "        17, 18, 19, 20, 21, 22, 23, 24, 25, 26, 27, 28, 29, 30, 31, 32, 33,\n",
       "        34, 35, 36, 37, 38, 39, 40, 41, 42, 43]),\n",
       " [Text(0, 0, 'arts'),\n",
       "  Text(1, 0, 'arts & culture'),\n",
       "  Text(2, 0, 'black voices'),\n",
       "  Text(3, 0, 'business'),\n",
       "  Text(4, 0, 'college'),\n",
       "  Text(5, 0, 'comedy'),\n",
       "  Text(6, 0, 'crime'),\n",
       "  Text(7, 0, 'culture & arts'),\n",
       "  Text(8, 0, 'divorce'),\n",
       "  Text(9, 0, 'education'),\n",
       "  Text(10, 0, 'entertainment'),\n",
       "  Text(11, 0, 'environment'),\n",
       "  Text(12, 0, 'fifty'),\n",
       "  Text(13, 0, 'food & drink'),\n",
       "  Text(14, 0, 'good news'),\n",
       "  Text(15, 0, 'green'),\n",
       "  Text(16, 0, 'health'),\n",
       "  Text(17, 0, 'healthy living'),\n",
       "  Text(18, 0, 'home & living'),\n",
       "  Text(19, 0, 'impact'),\n",
       "  Text(20, 0, 'latino voices'),\n",
       "  Text(21, 0, 'media'),\n",
       "  Text(22, 0, 'mediaandadvertising'),\n",
       "  Text(23, 0, 'money'),\n",
       "  Text(24, 0, 'parenting'),\n",
       "  Text(25, 0, 'parents'),\n",
       "  Text(26, 0, 'politics'),\n",
       "  Text(27, 0, 'queer voices'),\n",
       "  Text(28, 0, 'religion'),\n",
       "  Text(29, 0, 'science'),\n",
       "  Text(30, 0, 'sports'),\n",
       "  Text(31, 0, 'style'),\n",
       "  Text(32, 0, 'style & beauty'),\n",
       "  Text(33, 0, 'taste'),\n",
       "  Text(34, 0, 'tech'),\n",
       "  Text(35, 0, 'technology'),\n",
       "  Text(36, 0, 'the worldpost'),\n",
       "  Text(37, 0, 'travel'),\n",
       "  Text(38, 0, 'weddings'),\n",
       "  Text(39, 0, 'weird news'),\n",
       "  Text(40, 0, 'wellness'),\n",
       "  Text(41, 0, 'women'),\n",
       "  Text(42, 0, 'world news'),\n",
       "  Text(43, 0, 'worldpost')])"
      ]
     },
     "execution_count": 15,
     "metadata": {},
     "output_type": "execute_result"
    },
    {
     "data": {
      "image/png": "[encoded data removed]",
      "text/plain": [
       "<Figure size 864x576 with 1 Axes>"
      ]
     },
     "metadata": {},
     "output_type": "display_data"
    }
   ],
   "source": [
    "dff= df.groupby('category').count().reset_index()\n",
    "dff.columns = ['category','count']\n",
    "plt.title('Huffing Post Data Category Distribution')\n",
    "sns.barplot(x=\"category\", y=\"count\", data=dff)\n",
    "plt.xticks(rotation=70)"
   ]
  },
  {
   "cell_type": "code",
   "execution_count": 16,
   "metadata": {},
   "outputs": [
    {
     "data": {
      "text/plain": [
       "201059"
      ]
     },
     "execution_count": 16,
     "metadata": {},
     "output_type": "execute_result"
    }
   ],
   "source": [
    "len(df)"
   ]
  },
  {
   "cell_type": "code",
   "execution_count": null,
   "metadata": {},
   "outputs": [],
   "source": [
    "df['apply']"
   ]
  },
  {
   "cell_type": "code",
   "execution_count": 14,
   "metadata": {},
   "outputs": [],
   "source": [
    "## preprocess"
   ]
  },
  {
   "cell_type": "code",
   "execution_count": 17,
   "metadata": {},
   "outputs": [],
   "source": [
    "# %pip install -U spacy"
   ]
  },
  {
   "cell_type": "code",
   "execution_count": 18,
   "metadata": {},
   "outputs": [],
   "source": [
    "import spacy\n",
    "stop_words = set(pd.read_csv('http://ir.dcs.gla.ac.uk/resources/linguistic_utils/stop_words',\n",
    "                             header=None,\n",
    "                             squeeze=True).tolist())"
   ]
  },
  {
   "cell_type": "code",
   "execution_count": 17,
   "metadata": {},
   "outputs": [],
   "source": [
    "def clean_doc(d):\n",
    "    doc = []\n",
    "    for t in d:\n",
    "        # t.is_punct,\n",
    "        if not any([t.is_stop, t.is_digit, not t.is_alpha,  t.is_space, t.lemma_ == '-PRON-']):        \n",
    "            doc.append(t.lemma_)\n",
    "    return ' '.join(doc)    "
   ]
  },
  {
   "cell_type": "code",
   "execution_count": 19,
   "metadata": {},
   "outputs": [],
   "source": [
    "# !python -m spacy download en_core_web_sm\n",
    "import spacy"
   ]
  },
  {
   "cell_type": "code",
   "execution_count": 20,
   "metadata": {},
   "outputs": [],
   "source": [
    "nlp = spacy.load('en_core_web_sm')\n",
    "nlp.max_length = 6000000\n",
    "# nlp.disable_pipes('ner')\n",
    "# # nlp.disable_pipes('tok2vec')\n",
    "# nlp.disable_pipes('attribute_ruler')\n",
    "# nlp.disable_pipes('lemmatizer')"
   ]
  },
  {
   "cell_type": "code",
   "execution_count": 59,
   "metadata": {},
   "outputs": [
    {
     "data": {
      "text/plain": [
       "['tok2vec', 'tagger', 'parser', 'attribute_ruler', 'lemmatizer', 'ner']"
      ]
     },
     "execution_count": 59,
     "metadata": {},
     "output_type": "execute_result"
    }
   ],
   "source": [
    "nlp.pipe_names"
   ]
  },
  {
   "cell_type": "code",
   "execution_count": null,
   "metadata": {},
   "outputs": [],
   "source": []
  },
  {
   "cell_type": "code",
   "execution_count": 21,
   "metadata": {},
   "outputs": [],
   "source": [
    "def preprocess(articles):\n",
    "    iter_articles = (article for article in articles)\n",
    "    clean_articles = []\n",
    "    for i, doc in enumerate(nlp.pipe(iter_articles, \n",
    "                                     batch_size=100, \n",
    "                                     n_process=8), 1):\n",
    "        if i % 1000 == 0:\n",
    "            print(f'{i / len(articles):.2%}', end=' ', flush=True)\n",
    "        clean_articles.append(clean_doc(doc))\n",
    "    return clean_articles"
   ]
  },
  {
   "cell_type": "code",
   "execution_count": null,
   "metadata": {},
   "outputs": [],
   "source": []
  },
  {
   "cell_type": "code",
   "execution_count": 22,
   "metadata": {},
   "outputs": [
    {
     "name": "stdout",
     "output_type": "stream",
     "text": [
      "0.50% 0.99% 1.49% 1.99% 2.49% 2.98% 3.48% 3.98% 4.48% 4.97% 5.47% 5.97% 6.47% 6.96% 7.46% 7.96% 8.46% 8.95% 9.45% 9.95% 10.44% 10.94% 11.44% 11.94% 12.43% 12.93% 13.43% 13.93% 14.42% 14.92% 15.42% 15.92% 16.41% 16.91% 17.41% 17.91% 18.40% 18.90% 19.40% 19.89% 20.39% 20.89% 21.39% 21.88% 22.38% 22.88% 23.38% 23.87% 24.37% 24.87% 25.37% 25.86% 26.36% 26.86% 27.36% 27.85% 28.35% 28.85% 29.34% 29.84% 30.34% 30.84% 31.33% 31.83% 32.33% 32.83% 33.32% 33.82% 34.32% 34.82% 35.31% 35.81% 36.31% 36.81% 37.30% 37.80% 38.30% 38.79% 39.29% 39.79% 40.29% 40.78% 41.28% 41.78% 42.28% 42.77% 43.27% 43.77% 44.27% 44.76% 45.26% 45.76% 46.26% 46.75% 47.25% 47.75% 48.24% 48.74% 49.24% 49.74% 50.23% 50.73% 51.23% 51.73% 52.22% 52.72% 53.22% 53.72% 54.21% 54.71% 55.21% 55.71% 56.20% 56.70% 57.20% 57.69% 58.19% 58.69% 59.19% 59.68% 60.18% 60.68% 61.18% 61.67% 62.17% 62.67% 63.17% 63.66% 64.16% 64.66% 65.16% 65.65% 66.15% 66.65% 67.14% 67.64% 68.14% 68.64% 69.13% 69.63% 70.13% 70.63% 71.12% 71.62% 72.12% 72.62% 73.11% 73.61% 74.11% 74.60% 75.10% 75.60% 76.10% 76.59% 77.09% 77.59% 78.09% 78.58% 79.08% 79.58% 80.08% 80.57% 81.07% 81.57% 82.07% 82.56% 83.06% 83.56% 84.05% 84.55% 85.05% 85.55% 86.04% 86.54% 87.04% 87.54% 88.03% 88.53% 89.03% 89.53% 90.02% 90.52% 91.02% 91.52% 92.01% 92.51% 93.01% 93.50% 94.00% 94.50% 95.00% 95.49% 95.99% 96.49% 96.99% 97.48% 97.98% 98.48% 98.98% 99.47% 99.97% "
     ]
    }
   ],
   "source": [
    "df['cleanTitle'] = preprocess(df['title'])"
   ]
  },
  {
   "cell_type": "code",
   "execution_count": 31,
   "metadata": {},
   "outputs": [],
   "source": [
    "from nltk.tokenize import sent_tokenize, word_tokenize\n",
    "# df['number_of_sentences'] = df['title'].apply(lambda x : len(sent_tokenize(x)))\n"
   ]
  },
  {
   "cell_type": "code",
   "execution_count": 3,
   "metadata": {},
   "outputs": [
    {
     "data": {
      "text/html": [
       "<div>\n",
       "<style scoped>\n",
       "    .dataframe tbody tr th:only-of-type {\n",
       "        vertical-align: middle;\n",
       "    }\n",
       "\n",
       "    .dataframe tbody tr th {\n",
       "        vertical-align: top;\n",
       "    }\n",
       "\n",
       "    .dataframe thead th {\n",
       "        text-align: right;\n",
       "    }\n",
       "</style>\n",
       "<table border=\"1\" class=\"dataframe\">\n",
       "  <thead>\n",
       "    <tr style=\"text-align: right;\">\n",
       "      <th></th>\n",
       "      <th>Unnamed: 0</th>\n",
       "      <th>text</th>\n",
       "      <th>cleaned_comment</th>\n",
       "    </tr>\n",
       "  </thead>\n",
       "  <tbody>\n",
       "    <tr>\n",
       "      <th>0</th>\n",
       "      <td>0</td>\n",
       "      <td>اولین تصویر از لندرور هیدروژنی +عکس - خبر ثریا</td>\n",
       "      <td>اولین تصویر از لندرور هیدروژنی +عکس - خبر ثریا</td>\n",
       "    </tr>\n",
       "    <tr>\n",
       "      <th>1</th>\n",
       "      <td>1</td>\n",
       "      <td>ستاره‌ای که از سفر مرگ پیاده شد پیتزا سفارش دا...</td>\n",
       "      <td>ستاره‌ای که از سفر مرگ پیاده شد پیتزا سفارش دا...</td>\n",
       "    </tr>\n",
       "    <tr>\n",
       "      <th>2</th>\n",
       "      <td>2</td>\n",
       "      <td>انتقادات تند دبیر کمیته صنعت ستاد حجت الاسلام ...</td>\n",
       "      <td>انتقادات تند دبیر کمیته صنعت ستاد حجت الاسلام ...</td>\n",
       "    </tr>\n",
       "    <tr>\n",
       "      <th>3</th>\n",
       "      <td>3</td>\n",
       "      <td>توقیف پراید با ۱۸۹ کیلو تریاک | خبر روز</td>\n",
       "      <td>توقیف پراید با ۱۸۹ کیلو تریاک | خبر روز</td>\n",
       "    </tr>\n",
       "    <tr>\n",
       "      <th>4</th>\n",
       "      <td>4</td>\n",
       "      <td>پليس راه استان البرز | سایت خبری کرج رسا</td>\n",
       "      <td>پلیس راه استان البرز | سایت خبری کرج رسا</td>\n",
       "    </tr>\n",
       "  </tbody>\n",
       "</table>\n",
       "</div>"
      ],
      "text/plain": [
       "   Unnamed: 0                                               text  \\\n",
       "0           0     اولین تصویر از لندرور هیدروژنی +عکس - خبر ثریا   \n",
       "1           1  ستاره‌ای که از سفر مرگ پیاده شد پیتزا سفارش دا...   \n",
       "2           2  انتقادات تند دبیر کمیته صنعت ستاد حجت الاسلام ...   \n",
       "3           3            توقیف پراید با ۱۸۹ کیلو تریاک | خبر روز   \n",
       "4           4           پليس راه استان البرز | سایت خبری کرج رسا   \n",
       "\n",
       "                                     cleaned_comment  \n",
       "0     اولین تصویر از لندرور هیدروژنی +عکس - خبر ثریا  \n",
       "1  ستاره‌ای که از سفر مرگ پیاده شد پیتزا سفارش دا...  \n",
       "2  انتقادات تند دبیر کمیته صنعت ستاد حجت الاسلام ...  \n",
       "3            توقیف پراید با ۱۸۹ کیلو تریاک | خبر روز  \n",
       "4           پلیس راه استان البرز | سایت خبری کرج رسا  "
      ]
     },
     "execution_count": 3,
     "metadata": {},
     "output_type": "execute_result"
    }
   ],
   "source": [
    "df = pd.read_csv('../data/khabarOnline/khabar_cleaned.csv')\n",
    "df.head()"
   ]
  },
  {
   "cell_type": "code",
   "execution_count": 4,
   "metadata": {},
   "outputs": [],
   "source": [
    "from hazm import word_tokenize"
   ]
  },
  {
   "cell_type": "code",
   "execution_count": 5,
   "metadata": {},
   "outputs": [
    {
     "data": {
      "text/plain": [
       "0         None\n",
       "1         None\n",
       "2         None\n",
       "3         None\n",
       "4         None\n",
       "          ... \n",
       "237345    None\n",
       "237346    None\n",
       "237347    None\n",
       "237348    None\n",
       "237349    None\n",
       "Name: text, Length: 237350, dtype: object"
      ]
     },
     "execution_count": 5,
     "metadata": {},
     "output_type": "execute_result"
    }
   ],
   "source": [
    "unique_words = []\n",
    "df['text'].apply(lambda x : unique_words.append(set(word_tokenize(x))))"
   ]
  },
  {
   "cell_type": "code",
   "execution_count": 6,
   "metadata": {},
   "outputs": [
    {
     "data": {
      "text/plain": [
       "78498"
      ]
     },
     "execution_count": 6,
     "metadata": {},
     "output_type": "execute_result"
    }
   ],
   "source": [
    "len(set([e for l in unique_words for e in l ]))"
   ]
  },
  {
   "cell_type": "code",
   "execution_count": 7,
   "metadata": {},
   "outputs": [
    {
     "data": {
      "text/plain": [
       "2876847"
      ]
     },
     "execution_count": 7,
     "metadata": {},
     "output_type": "execute_result"
    }
   ],
   "source": [
    "len([e for l in unique_words for e in l ])"
   ]
  },
  {
   "cell_type": "code",
   "execution_count": 11,
   "metadata": {},
   "outputs": [
    {
     "data": {
      "text/plain": [
       "3032684"
      ]
     },
     "execution_count": 11,
     "metadata": {},
     "output_type": "execute_result"
    }
   ],
   "source": [
    "sum(df['word_count'])"
   ]
  },
  {
   "cell_type": "code",
   "execution_count": 14,
   "metadata": {},
   "outputs": [
    {
     "data": {
      "text/plain": [
       "237350"
      ]
     },
     "execution_count": 14,
     "metadata": {},
     "output_type": "execute_result"
    }
   ],
   "source": [
    "len(df)"
   ]
  },
  {
   "cell_type": "code",
   "execution_count": 10,
   "metadata": {},
   "outputs": [],
   "source": [
    "df['word_count'] = df['text'].apply(lambda x : len(word_tokenize(x)))"
   ]
  },
  {
   "cell_type": "code",
   "execution_count": 13,
   "metadata": {},
   "outputs": [
    {
     "data": {
      "text/plain": [
       "<AxesSubplot:title={'center':'word count per news title'}, xlabel='word_count'>"
      ]
     },
     "execution_count": 13,
     "metadata": {},
     "output_type": "execute_result"
    },
    {
     "data": {
      "image/png": "[encoded data removed]",
      "text/plain": [
       "<Figure size 864x576 with 1 Axes>"
      ]
     },
     "metadata": {},
     "output_type": "display_data"
    }
   ],
   "source": [
    "plt.title('word count per news title')\n",
    "sns.violinplot(x=df[df['word_count']<100]['word_count'])"
   ]
  },
  {
   "cell_type": "code",
   "execution_count": 105,
   "metadata": {},
   "outputs": [],
   "source": [
    "df[['title','category']].to_csv('../data/rawHuffingPostGathered.csv')"
   ]
  },
  {
   "cell_type": "code",
   "execution_count": 106,
   "metadata": {},
   "outputs": [],
   "source": [
    "df[['cleanTitle','category']].to_csv('../data/cleanedHuffingPostGathered.csv')"
   ]
  },
  {
   "cell_type": "code",
   "execution_count": 97,
   "metadata": {},
   "outputs": [
    {
     "name": "stdout",
     "output_type": "stream",
     "text": [
      "raw: There Were 2 Mass Shootings In Texas Last Week, But Only 1 On TV\n",
      "cleaned: Mass Shootings Texas week tv\n",
      "----------------\n",
      "raw: Will Smith Joins Diplo And Nicky Jam For The 2018 World Cup's Official Song\n",
      "cleaned: Smith Joins Diplo Nicky Jam World Cup Official Song\n",
      "----------------\n",
      "raw: Hugh Grant Marries For The First Time At Age 57\n",
      "cleaned: Hugh Grant Marries time Age\n",
      "----------------\n",
      "raw: Jim Carrey Blasts 'Castrato' Adam Schiff And Democrats In New Artwork\n",
      "cleaned: Jim Carrey Blasts Castrato Adam Schiff Democrats New Artwork\n",
      "----------------\n",
      "raw: Julianna Margulies Uses Donald Trump Poop Bags To Pick Up After Her Dog\n",
      "cleaned: Julianna Margulies use Donald Trump Poop bag pick Dog\n",
      "----------------\n",
      "raw: Morgan Freeman 'Devastated' That Sexual Harassment Claims Could Undermine Legacy\n",
      "cleaned: Morgan Freeman devastate Sexual Harassment claim undermine Legacy\n",
      "----------------\n",
      "raw: Donald Trump Is Lovin' New McDonald's Jingle In 'Tonight Show' Bit\n",
      "cleaned: Donald Trump New McDonald Jingle tonight bit\n",
      "----------------\n",
      "raw: What To Watch On Amazon Prime That’s New This Week\n",
      "cleaned: watch Amazon Prime New week\n",
      "----------------\n",
      "raw: Mike Myers Reveals He'd 'Like To' Do A Fourth Austin Powers Film\n",
      "cleaned: Mike Myers reveal like Fourth Austin Powers Film\n",
      "----------------\n",
      "raw: What To Watch On Hulu That’s New This Week\n",
      "cleaned: watch Hulu New week\n",
      "----------------\n",
      "raw: Justin Timberlake Visits Texas School Shooting Victims\n",
      "cleaned: Justin Timberlake Visits Texas School shooting victim\n",
      "----------------\n",
      "raw: South Korean President Meets North Korea's Kim Jong Un To Talk Trump Summit\n",
      "cleaned: south korean President meet North Korea Kim Jong Un Talk Trump Summit\n",
      "----------------\n"
     ]
    }
   ],
   "source": [
    "for i,r in df.iterrows():\n",
    "    print(f\"raw: {r['headline']}\")\n",
    "    print(f\"cleaned: {r['cleanTitle']}\")\n",
    "    print('----------------')\n",
    "    if i>10:\n",
    "        break"
   ]
  },
  {
   "cell_type": "code",
   "execution_count": 107,
   "metadata": {},
   "outputs": [
    {
     "data": {
      "text/plain": [
       "18003"
      ]
     },
     "execution_count": 107,
     "metadata": {},
     "output_type": "execute_result"
    }
   ],
   "source": [
    "sum(df['title'].apply(lambda x: len(x.split())))"
   ]
  },
  {
   "cell_type": "code",
   "execution_count": 98,
   "metadata": {},
   "outputs": [],
   "source": [
    "from collections import Counter\n",
    "docs = df['cleanTitle'].tolist()\n",
    "article_length, token_count = [], Counter()\n",
    "for i, doc in enumerate(docs, 1):\n",
    "    if i % 1e6 == 0:\n",
    "        print(i, end=' ', flush=True)\n",
    "    d = doc.lower().split()\n",
    "    article_length.append(len(d))\n",
    "    token_count.update(d)"
   ]
  },
  {
   "cell_type": "code",
   "execution_count": 35,
   "metadata": {},
   "outputs": [],
   "source": [
    "sns.set_palette(\"Purples_r\")"
   ]
  },
  {
   "cell_type": "code",
   "execution_count": null,
   "metadata": {},
   "outputs": [],
   "source": []
  },
  {
   "cell_type": "code",
   "execution_count": 99,
   "metadata": {},
   "outputs": [
    {
     "data": {
      "image/png": "[encoded data removed]",
      "text/plain": [
       "<Figure size 1080x360 with 2 Axes>"
      ]
     },
     "metadata": {},
     "output_type": "display_data"
    }
   ],
   "source": [
    "fig, axes = plt.subplots(ncols=2, figsize=(15, 5))\n",
    "(pd.DataFrame(token_count.most_common(), columns=['token', 'count'])\n",
    " .pipe(lambda x: x[~x.token.str.lower().isin(stop_words)])\n",
    " .set_index('token')\n",
    " .squeeze()\n",
    " .iloc[:25]\n",
    " .sort_values()\n",
    " .plot\n",
    " .barh(ax=axes[0], title='Most frequent tokens'))\n",
    "sns.boxenplot(x=pd.Series(article_length), ax=axes[1])\n",
    "axes[1].set_xscale('log')\n",
    "axes[1].set_xlabel('Word Count (log scale)')\n",
    "axes[1].set_title('Article Length Distribution')\n",
    "sns.despine()\n",
    "fig.tight_layout()\n",
    "# fig.savefig(results_path / 'fn_explore', dpi=300);"
   ]
  },
  {
   "cell_type": "code",
   "execution_count": 7,
   "metadata": {},
   "outputs": [],
   "source": [
    "## load dataset\n",
    "path = '../../data/News_Category_Dataset_v2.json'\n",
    "df = load_json_item(path,['headline','category'])"
   ]
  },
  {
   "cell_type": "code",
   "execution_count": 8,
   "metadata": {},
   "outputs": [],
   "source": [
    "df.head()\n",
    "df['category'] = df['category'].apply(lambda x: x.lower())"
   ]
  },
  {
   "cell_type": "code",
   "execution_count": 90,
   "metadata": {},
   "outputs": [
    {
     "data": {
      "text/html": [
       "<div>\n",
       "<style scoped>\n",
       "    .dataframe tbody tr th:only-of-type {\n",
       "        vertical-align: middle;\n",
       "    }\n",
       "\n",
       "    .dataframe tbody tr th {\n",
       "        vertical-align: top;\n",
       "    }\n",
       "\n",
       "    .dataframe thead th {\n",
       "        text-align: right;\n",
       "    }\n",
       "</style>\n",
       "<table border=\"1\" class=\"dataframe\">\n",
       "  <thead>\n",
       "    <tr style=\"text-align: right;\">\n",
       "      <th></th>\n",
       "      <th>headline</th>\n",
       "      <th>category</th>\n",
       "    </tr>\n",
       "  </thead>\n",
       "  <tbody>\n",
       "    <tr>\n",
       "      <th>0</th>\n",
       "      <td>There Were 2 Mass Shootings In Texas Last Week...</td>\n",
       "      <td>crime</td>\n",
       "    </tr>\n",
       "    <tr>\n",
       "      <th>1</th>\n",
       "      <td>Will Smith Joins Diplo And Nicky Jam For The 2...</td>\n",
       "      <td>entertainment</td>\n",
       "    </tr>\n",
       "    <tr>\n",
       "      <th>2</th>\n",
       "      <td>Hugh Grant Marries For The First Time At Age 57</td>\n",
       "      <td>entertainment</td>\n",
       "    </tr>\n",
       "    <tr>\n",
       "      <th>3</th>\n",
       "      <td>Jim Carrey Blasts 'Castrato' Adam Schiff And D...</td>\n",
       "      <td>entertainment</td>\n",
       "    </tr>\n",
       "    <tr>\n",
       "      <th>4</th>\n",
       "      <td>Julianna Margulies Uses Donald Trump Poop Bags...</td>\n",
       "      <td>entertainment</td>\n",
       "    </tr>\n",
       "  </tbody>\n",
       "</table>\n",
       "</div>"
      ],
      "text/plain": [
       "                                            headline       category\n",
       "0  There Were 2 Mass Shootings In Texas Last Week...          crime\n",
       "1  Will Smith Joins Diplo And Nicky Jam For The 2...  entertainment\n",
       "2    Hugh Grant Marries For The First Time At Age 57  entertainment\n",
       "3  Jim Carrey Blasts 'Castrato' Adam Schiff And D...  entertainment\n",
       "4  Julianna Margulies Uses Donald Trump Poop Bags...  entertainment"
      ]
     },
     "execution_count": 90,
     "metadata": {},
     "output_type": "execute_result"
    }
   ],
   "source": [
    "df.head()"
   ]
  },
  {
   "cell_type": "code",
   "execution_count": 121,
   "metadata": {},
   "outputs": [],
   "source": [
    "df = pd.read_csv('../../data/khabar.csv',lineterminator='\\n',usecols=['title','cats'])"
   ]
  },
  {
   "cell_type": "code",
   "execution_count": 126,
   "metadata": {},
   "outputs": [],
   "source": []
  },
  {
   "cell_type": "code",
   "execution_count": 123,
   "metadata": {},
   "outputs": [],
   "source": [
    "df['category'] = df['cats'].apply(lambda x: int(eval(x)[0]) if eval(x)!=[] else None)\n",
    "df = df.dropna()"
   ]
  },
  {
   "cell_type": "code",
   "execution_count": null,
   "metadata": {},
   "outputs": [],
   "source": []
  },
  {
   "cell_type": "code",
   "execution_count": 131,
   "metadata": {},
   "outputs": [],
   "source": [
    "df['category'] = df['category'].apply(lambda x: mapped_category_title[x])"
   ]
  },
  {
   "cell_type": "code",
   "execution_count": 135,
   "metadata": {},
   "outputs": [],
   "source": [
    "import arabic_reshaper\n",
    "from bidi.algorithm import get_display\n"
   ]
  },
  {
   "cell_type": "code",
   "execution_count": 1,
   "metadata": {},
   "outputs": [
    {
     "ename": "NameError",
     "evalue": "name 'df' is not defined",
     "output_type": "error",
     "traceback": [
      "\u001b[1;31m---------------------------------------------------------------------------\u001b[0m",
      "\u001b[1;31mNameError\u001b[0m                                 Traceback (most recent call last)",
      "\u001b[1;32m<ipython-input-1-d9ebe4c435aa>\u001b[0m in \u001b[0;36m<module>\u001b[1;34m\u001b[0m\n\u001b[1;32m----> 1\u001b[1;33m \u001b[0mdff\u001b[0m\u001b[1;33m=\u001b[0m \u001b[0mdf\u001b[0m\u001b[1;33m[\u001b[0m\u001b[1;33m[\u001b[0m\u001b[1;34m'title'\u001b[0m\u001b[1;33m,\u001b[0m\u001b[1;34m'category'\u001b[0m\u001b[1;33m]\u001b[0m\u001b[1;33m]\u001b[0m\u001b[1;33m.\u001b[0m\u001b[0mgroupby\u001b[0m\u001b[1;33m(\u001b[0m\u001b[1;34m'category'\u001b[0m\u001b[1;33m)\u001b[0m\u001b[1;33m.\u001b[0m\u001b[0mcount\u001b[0m\u001b[1;33m(\u001b[0m\u001b[1;33m)\u001b[0m\u001b[1;33m.\u001b[0m\u001b[0mreset_index\u001b[0m\u001b[1;33m(\u001b[0m\u001b[1;33m)\u001b[0m\u001b[1;33m\u001b[0m\u001b[1;33m\u001b[0m\u001b[0m\n\u001b[0m\u001b[0;32m      2\u001b[0m \u001b[0mdff\u001b[0m\u001b[1;33m.\u001b[0m\u001b[0mcolumns\u001b[0m \u001b[1;33m=\u001b[0m \u001b[1;33m[\u001b[0m\u001b[1;34m'category'\u001b[0m\u001b[1;33m,\u001b[0m\u001b[1;34m'count'\u001b[0m\u001b[1;33m]\u001b[0m\u001b[1;33m\u001b[0m\u001b[1;33m\u001b[0m\u001b[0m\n\u001b[0;32m      3\u001b[0m \u001b[0mdff\u001b[0m\u001b[1;33m[\u001b[0m\u001b[1;34m'category'\u001b[0m\u001b[1;33m]\u001b[0m \u001b[1;33m=\u001b[0m \u001b[0mdff\u001b[0m\u001b[1;33m[\u001b[0m\u001b[1;34m'category'\u001b[0m\u001b[1;33m]\u001b[0m\u001b[1;33m.\u001b[0m\u001b[0mapply\u001b[0m\u001b[1;33m(\u001b[0m\u001b[1;32mlambda\u001b[0m \u001b[0mx\u001b[0m\u001b[1;33m:\u001b[0m \u001b[0mget_display\u001b[0m\u001b[1;33m(\u001b[0m\u001b[0marabic_reshaper\u001b[0m\u001b[1;33m.\u001b[0m\u001b[0mreshape\u001b[0m\u001b[1;33m(\u001b[0m\u001b[0mx\u001b[0m\u001b[1;33m)\u001b[0m\u001b[1;33m)\u001b[0m\u001b[1;33m)\u001b[0m\u001b[1;33m\u001b[0m\u001b[1;33m\u001b[0m\u001b[0m\n\u001b[0;32m      4\u001b[0m \u001b[0mplt\u001b[0m\u001b[1;33m.\u001b[0m\u001b[0mtitle\u001b[0m\u001b[1;33m(\u001b[0m\u001b[1;34m'Huffing Post Data Set Category Distribution'\u001b[0m\u001b[1;33m)\u001b[0m\u001b[1;33m\u001b[0m\u001b[1;33m\u001b[0m\u001b[0m\n\u001b[0;32m      5\u001b[0m \u001b[0msns\u001b[0m\u001b[1;33m.\u001b[0m\u001b[0mbarplot\u001b[0m\u001b[1;33m(\u001b[0m\u001b[0mx\u001b[0m\u001b[1;33m=\u001b[0m\u001b[1;34m\"category\"\u001b[0m\u001b[1;33m,\u001b[0m \u001b[0my\u001b[0m\u001b[1;33m=\u001b[0m\u001b[1;34m\"count\"\u001b[0m\u001b[1;33m,\u001b[0m \u001b[0mdata\u001b[0m\u001b[1;33m=\u001b[0m\u001b[0mdff\u001b[0m\u001b[1;33m)\u001b[0m\u001b[1;33m\u001b[0m\u001b[1;33m\u001b[0m\u001b[0m\n",
      "\u001b[1;31mNameError\u001b[0m: name 'df' is not defined"
     ]
    }
   ],
   "source": [
    "dff= df[['title','category']].groupby('category').count().reset_index()\n",
    "dff.columns = ['category','count']\n",
    "dff['category'] = dff['category'].apply(lambda x: get_display(arabic_reshaper.reshape(x)))\n",
    "plt.title('Huffing Post Data Set Category Distribution')\n",
    "sns.barplot(x=\"category\", y=\"count\", data=dff)\n",
    "plt.xticks(rotation=70)"
   ]
  },
  {
   "cell_type": "code",
   "execution_count": null,
   "metadata": {},
   "outputs": [],
   "source": []
  }
 ],
 "metadata": {
  "interpreter": {
   "hash": "ae1f165465835e2cb6b5fceb256823d0ef9f76f85789d1da3312dd750aecaffe"
  },
  "kernelspec": {
   "display_name": "Python 3.7.9 64-bit",
   "language": "python",
   "name": "python3"
  },
  "language_info": {
   "codemirror_mode": {
    "name": "ipython",
    "version": 3
   },
   "file_extension": ".py",
   "mimetype": "text/x-python",
   "name": "python",
   "nbconvert_exporter": "python",
   "pygments_lexer": "ipython3",
   "version": "3.7.9"
  },
  "orig_nbformat": 4
 },
 "nbformat": 4,
 "nbformat_minor": 2
}
