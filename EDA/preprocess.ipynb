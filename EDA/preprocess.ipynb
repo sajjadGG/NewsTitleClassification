{
 "cells": [
  {
   "cell_type": "code",
   "execution_count": 3,
   "metadata": {},
   "outputs": [],
   "source": [
    "import pandas as pd\n",
    "import matplotlib.pyplot as plt\n",
    "import numpy as np\n",
    "import seaborn as sns\n",
    "import json"
   ]
  },
  {
   "cell_type": "code",
   "execution_count": 4,
   "metadata": {},
   "outputs": [],
   "source": [
    "sns.set_style('white')\n",
    "sns.set(rc={'figure.figsize':(12,8)})"
   ]
  },
  {
   "cell_type": "code",
   "execution_count": 81,
   "metadata": {},
   "outputs": [],
   "source": [
    "def load_json_item(path,columns=['title','category']):\n",
    "    data = []\n",
    "    with open(path,'r',encoding='utf-8') as f:\n",
    "        for line in f:\n",
    "            data.append({k:v for k,v in json.loads(line).items() if k in columns})\n",
    "    return pd.DataFrame(data,columns=columns)"
   ]
  },
  {
   "cell_type": "code",
   "execution_count": 100,
   "metadata": {},
   "outputs": [
    {
     "data": {
      "text/html": [
       "<div>\n",
       "<style scoped>\n",
       "    .dataframe tbody tr th:only-of-type {\n",
       "        vertical-align: middle;\n",
       "    }\n",
       "\n",
       "    .dataframe tbody tr th {\n",
       "        vertical-align: top;\n",
       "    }\n",
       "\n",
       "    .dataframe thead th {\n",
       "        text-align: right;\n",
       "    }\n",
       "</style>\n",
       "<table border=\"1\" class=\"dataframe\">\n",
       "  <thead>\n",
       "    <tr style=\"text-align: right;\">\n",
       "      <th></th>\n",
       "      <th>title</th>\n",
       "      <th>category</th>\n",
       "    </tr>\n",
       "  </thead>\n",
       "  <tbody>\n",
       "    <tr>\n",
       "      <th>0</th>\n",
       "      <td>Captive Medic's Bodycam Shows Firsthand Horror...</td>\n",
       "      <td>World News</td>\n",
       "    </tr>\n",
       "    <tr>\n",
       "      <th>1</th>\n",
       "      <td>Russia Is Firing Its Senior Commanders. What D...</td>\n",
       "      <td>World News</td>\n",
       "    </tr>\n",
       "    <tr>\n",
       "      <th>2</th>\n",
       "      <td>LinkedIn Settles With U.S. Over Alleged Pay Di...</td>\n",
       "      <td>Business</td>\n",
       "    </tr>\n",
       "    <tr>\n",
       "      <th>3</th>\n",
       "      <td>Starbucks Workers Have Unionized More Than 50 ...</td>\n",
       "      <td>Business</td>\n",
       "    </tr>\n",
       "    <tr>\n",
       "      <th>4</th>\n",
       "      <td>Red Cross Registers Hundreds Of Ukrainian POWs...</td>\n",
       "      <td>World News</td>\n",
       "    </tr>\n",
       "  </tbody>\n",
       "</table>\n",
       "</div>"
      ],
      "text/plain": [
       "                                               title    category\n",
       "0  Captive Medic's Bodycam Shows Firsthand Horror...  World News\n",
       "1  Russia Is Firing Its Senior Commanders. What D...  World News\n",
       "2  LinkedIn Settles With U.S. Over Alleged Pay Di...    Business\n",
       "3  Starbucks Workers Have Unionized More Than 50 ...    Business\n",
       "4  Red Cross Registers Hundreds Of Ukrainian POWs...  World News"
      ]
     },
     "execution_count": 100,
     "metadata": {},
     "output_type": "execute_result"
    }
   ],
   "source": [
    "path = '../items.json'\n",
    "df = load_json_item(path)\n",
    "df['category'] = df['category']\n",
    "df.head()"
   ]
  },
  {
   "cell_type": "code",
   "execution_count": 12,
   "metadata": {},
   "outputs": [
    {
     "data": {
      "text/plain": [
       "(array([0, 1, 2]),\n",
       " [Text(0, 0, 'Business'),\n",
       "  Text(1, 0, 'Entertainment'),\n",
       "  Text(2, 0, 'World News')])"
      ]
     },
     "execution_count": 12,
     "metadata": {},
     "output_type": "execute_result"
    },
    {
     "data": {
      "image/png": "[encoded data removed]",
      "text/plain": [
       "<Figure size 864x576 with 1 Axes>"
      ]
     },
     "metadata": {},
     "output_type": "display_data"
    }
   ],
   "source": [
    "dff= df.groupby('category').count().reset_index()\n",
    "dff.columns = ['category','count']\n",
    "plt.title('Huffing Post Gathered Data Category Distribution')\n",
    "sns.barplot(x=\"category\", y=\"count\", data=dff)\n",
    "plt.xticks(rotation=70)"
   ]
  },
  {
   "cell_type": "code",
   "execution_count": 13,
   "metadata": {},
   "outputs": [
    {
     "data": {
      "text/html": [
       "<div>\n",
       "<style scoped>\n",
       "    .dataframe tbody tr th:only-of-type {\n",
       "        vertical-align: middle;\n",
       "    }\n",
       "\n",
       "    .dataframe tbody tr th {\n",
       "        vertical-align: top;\n",
       "    }\n",
       "\n",
       "    .dataframe thead th {\n",
       "        text-align: right;\n",
       "    }\n",
       "</style>\n",
       "<table border=\"1\" class=\"dataframe\">\n",
       "  <thead>\n",
       "    <tr style=\"text-align: right;\">\n",
       "      <th></th>\n",
       "      <th>title</th>\n",
       "      <th>category</th>\n",
       "    </tr>\n",
       "  </thead>\n",
       "  <tbody>\n",
       "    <tr>\n",
       "      <th>0</th>\n",
       "      <td>Captive Medic's Bodycam Shows Firsthand Horror...</td>\n",
       "      <td>World News</td>\n",
       "    </tr>\n",
       "    <tr>\n",
       "      <th>1</th>\n",
       "      <td>Russia Is Firing Its Senior Commanders. What D...</td>\n",
       "      <td>World News</td>\n",
       "    </tr>\n",
       "    <tr>\n",
       "      <th>2</th>\n",
       "      <td>LinkedIn Settles With U.S. Over Alleged Pay Di...</td>\n",
       "      <td>Business</td>\n",
       "    </tr>\n",
       "    <tr>\n",
       "      <th>3</th>\n",
       "      <td>Starbucks Workers Have Unionized More Than 50 ...</td>\n",
       "      <td>Business</td>\n",
       "    </tr>\n",
       "    <tr>\n",
       "      <th>4</th>\n",
       "      <td>Red Cross Registers Hundreds Of Ukrainian POWs...</td>\n",
       "      <td>World News</td>\n",
       "    </tr>\n",
       "  </tbody>\n",
       "</table>\n",
       "</div>"
      ],
      "text/plain": [
       "                                               title    category\n",
       "0  Captive Medic's Bodycam Shows Firsthand Horror...  World News\n",
       "1  Russia Is Firing Its Senior Commanders. What D...  World News\n",
       "2  LinkedIn Settles With U.S. Over Alleged Pay Di...    Business\n",
       "3  Starbucks Workers Have Unionized More Than 50 ...    Business\n",
       "4  Red Cross Registers Hundreds Of Ukrainian POWs...  World News"
      ]
     },
     "execution_count": 13,
     "metadata": {},
     "output_type": "execute_result"
    }
   ],
   "source": [
    "df.head()"
   ]
  },
  {
   "cell_type": "code",
   "execution_count": 14,
   "metadata": {},
   "outputs": [],
   "source": [
    "## preprocess"
   ]
  },
  {
   "cell_type": "code",
   "execution_count": 17,
   "metadata": {},
   "outputs": [],
   "source": [
    "# %pip install -U spacy"
   ]
  },
  {
   "cell_type": "code",
   "execution_count": 18,
   "metadata": {},
   "outputs": [],
   "source": [
    "import spacy\n",
    "stop_words = set(pd.read_csv('http://ir.dcs.gla.ac.uk/resources/linguistic_utils/stop_words',\n",
    "                             header=None,\n",
    "                             squeeze=True).tolist())"
   ]
  },
  {
   "cell_type": "code",
   "execution_count": 19,
   "metadata": {},
   "outputs": [],
   "source": [
    "def clean_doc(d):\n",
    "    doc = []\n",
    "    for t in d:\n",
    "        if not any([t.is_stop, t.is_digit, not t.is_alpha, t.is_punct, t.is_space, t.lemma_ == '-PRON-']):        \n",
    "            doc.append(t.lemma_)\n",
    "    return ' '.join(doc)    "
   ]
  },
  {
   "cell_type": "code",
   "execution_count": 23,
   "metadata": {},
   "outputs": [],
   "source": [
    "# !python -m spacy download en_core_web_sm"
   ]
  },
  {
   "cell_type": "code",
   "execution_count": 58,
   "metadata": {},
   "outputs": [],
   "source": [
    "nlp = spacy.load('en_core_web_sm')\n",
    "nlp.max_length = 6000000\n",
    "# nlp.disable_pipes('ner')\n",
    "# # nlp.disable_pipes('tok2vec')\n",
    "# nlp.disable_pipes('attribute_ruler')\n",
    "# nlp.disable_pipes('lemmatizer')"
   ]
  },
  {
   "cell_type": "code",
   "execution_count": 59,
   "metadata": {},
   "outputs": [
    {
     "data": {
      "text/plain": [
       "['tok2vec', 'tagger', 'parser', 'attribute_ruler', 'lemmatizer', 'ner']"
      ]
     },
     "execution_count": 59,
     "metadata": {},
     "output_type": "execute_result"
    }
   ],
   "source": [
    "nlp.pipe_names"
   ]
  },
  {
   "cell_type": "code",
   "execution_count": null,
   "metadata": {},
   "outputs": [],
   "source": []
  },
  {
   "cell_type": "code",
   "execution_count": 60,
   "metadata": {},
   "outputs": [],
   "source": [
    "def preprocess(articles):\n",
    "    iter_articles = (article for article in articles)\n",
    "    clean_articles = []\n",
    "    for i, doc in enumerate(nlp.pipe(iter_articles, \n",
    "                                     batch_size=100, \n",
    "                                     n_process=8), 1):\n",
    "        if i % 1000 == 0:\n",
    "            print(f'{i / len(articles):.2%}', end=' ', flush=True)\n",
    "        clean_articles.append(clean_doc(doc))\n",
    "    return clean_articles"
   ]
  },
  {
   "cell_type": "code",
   "execution_count": 101,
   "metadata": {},
   "outputs": [
    {
     "name": "stdout",
     "output_type": "stream",
     "text": [
      "60.31% "
     ]
    }
   ],
   "source": [
    "df['cleanTitle'] = preprocess(df['title'])"
   ]
  },
  {
   "cell_type": "code",
   "execution_count": 102,
   "metadata": {},
   "outputs": [
    {
     "data": {
      "text/html": [
       "<div>\n",
       "<style scoped>\n",
       "    .dataframe tbody tr th:only-of-type {\n",
       "        vertical-align: middle;\n",
       "    }\n",
       "\n",
       "    .dataframe tbody tr th {\n",
       "        vertical-align: top;\n",
       "    }\n",
       "\n",
       "    .dataframe thead th {\n",
       "        text-align: right;\n",
       "    }\n",
       "</style>\n",
       "<table border=\"1\" class=\"dataframe\">\n",
       "  <thead>\n",
       "    <tr style=\"text-align: right;\">\n",
       "      <th></th>\n",
       "      <th>title</th>\n",
       "      <th>category</th>\n",
       "      <th>cleanTitle</th>\n",
       "    </tr>\n",
       "  </thead>\n",
       "  <tbody>\n",
       "    <tr>\n",
       "      <th>0</th>\n",
       "      <td>Captive Medic's Bodycam Shows Firsthand Horror...</td>\n",
       "      <td>World News</td>\n",
       "      <td>Captive Medic Bodycam show Firsthand Horror Ma...</td>\n",
       "    </tr>\n",
       "    <tr>\n",
       "      <th>1</th>\n",
       "      <td>Russia Is Firing Its Senior Commanders. What D...</td>\n",
       "      <td>World News</td>\n",
       "      <td>Russia fire senior commander mean Ukraine War</td>\n",
       "    </tr>\n",
       "    <tr>\n",
       "      <th>2</th>\n",
       "      <td>LinkedIn Settles With U.S. Over Alleged Pay Di...</td>\n",
       "      <td>Business</td>\n",
       "      <td>LinkedIn Settles Alleged Pay discrimination</td>\n",
       "    </tr>\n",
       "    <tr>\n",
       "      <th>3</th>\n",
       "      <td>Starbucks Workers Have Unionized More Than 50 ...</td>\n",
       "      <td>Business</td>\n",
       "      <td>Starbucks Workers unionize Stores</td>\n",
       "    </tr>\n",
       "    <tr>\n",
       "      <th>4</th>\n",
       "      <td>Red Cross Registers Hundreds Of Ukrainian POWs...</td>\n",
       "      <td>World News</td>\n",
       "      <td>Red Cross Registers Hundreds ukrainian pow Mar...</td>\n",
       "    </tr>\n",
       "  </tbody>\n",
       "</table>\n",
       "</div>"
      ],
      "text/plain": [
       "                                               title    category  \\\n",
       "0  Captive Medic's Bodycam Shows Firsthand Horror...  World News   \n",
       "1  Russia Is Firing Its Senior Commanders. What D...  World News   \n",
       "2  LinkedIn Settles With U.S. Over Alleged Pay Di...    Business   \n",
       "3  Starbucks Workers Have Unionized More Than 50 ...    Business   \n",
       "4  Red Cross Registers Hundreds Of Ukrainian POWs...  World News   \n",
       "\n",
       "                                          cleanTitle  \n",
       "0  Captive Medic Bodycam show Firsthand Horror Ma...  \n",
       "1      Russia fire senior commander mean Ukraine War  \n",
       "2        LinkedIn Settles Alleged Pay discrimination  \n",
       "3                  Starbucks Workers unionize Stores  \n",
       "4  Red Cross Registers Hundreds ukrainian pow Mar...  "
      ]
     },
     "execution_count": 102,
     "metadata": {},
     "output_type": "execute_result"
    }
   ],
   "source": [
    "df.head()"
   ]
  },
  {
   "cell_type": "code",
   "execution_count": 105,
   "metadata": {},
   "outputs": [],
   "source": [
    "df[['title','category']].to_csv('../data/rawHuffingPostGathered.csv')"
   ]
  },
  {
   "cell_type": "code",
   "execution_count": 106,
   "metadata": {},
   "outputs": [],
   "source": [
    "df[['cleanTitle','category']].to_csv('../data/cleanedHuffingPostGathered.csv')"
   ]
  },
  {
   "cell_type": "code",
   "execution_count": 97,
   "metadata": {},
   "outputs": [
    {
     "name": "stdout",
     "output_type": "stream",
     "text": [
      "raw: There Were 2 Mass Shootings In Texas Last Week, But Only 1 On TV\n",
      "cleaned: Mass Shootings Texas week tv\n",
      "----------------\n",
      "raw: Will Smith Joins Diplo And Nicky Jam For The 2018 World Cup's Official Song\n",
      "cleaned: Smith Joins Diplo Nicky Jam World Cup Official Song\n",
      "----------------\n",
      "raw: Hugh Grant Marries For The First Time At Age 57\n",
      "cleaned: Hugh Grant Marries time Age\n",
      "----------------\n",
      "raw: Jim Carrey Blasts 'Castrato' Adam Schiff And Democrats In New Artwork\n",
      "cleaned: Jim Carrey Blasts Castrato Adam Schiff Democrats New Artwork\n",
      "----------------\n",
      "raw: Julianna Margulies Uses Donald Trump Poop Bags To Pick Up After Her Dog\n",
      "cleaned: Julianna Margulies use Donald Trump Poop bag pick Dog\n",
      "----------------\n",
      "raw: Morgan Freeman 'Devastated' That Sexual Harassment Claims Could Undermine Legacy\n",
      "cleaned: Morgan Freeman devastate Sexual Harassment claim undermine Legacy\n",
      "----------------\n",
      "raw: Donald Trump Is Lovin' New McDonald's Jingle In 'Tonight Show' Bit\n",
      "cleaned: Donald Trump New McDonald Jingle tonight bit\n",
      "----------------\n",
      "raw: What To Watch On Amazon Prime That’s New This Week\n",
      "cleaned: watch Amazon Prime New week\n",
      "----------------\n",
      "raw: Mike Myers Reveals He'd 'Like To' Do A Fourth Austin Powers Film\n",
      "cleaned: Mike Myers reveal like Fourth Austin Powers Film\n",
      "----------------\n",
      "raw: What To Watch On Hulu That’s New This Week\n",
      "cleaned: watch Hulu New week\n",
      "----------------\n",
      "raw: Justin Timberlake Visits Texas School Shooting Victims\n",
      "cleaned: Justin Timberlake Visits Texas School shooting victim\n",
      "----------------\n",
      "raw: South Korean President Meets North Korea's Kim Jong Un To Talk Trump Summit\n",
      "cleaned: south korean President meet North Korea Kim Jong Un Talk Trump Summit\n",
      "----------------\n"
     ]
    }
   ],
   "source": [
    "for i,r in df.iterrows():\n",
    "    print(f\"raw: {r['headline']}\")\n",
    "    print(f\"cleaned: {r['cleanTitle']}\")\n",
    "    print('----------------')\n",
    "    if i>10:\n",
    "        break"
   ]
  },
  {
   "cell_type": "code",
   "execution_count": 107,
   "metadata": {},
   "outputs": [
    {
     "data": {
      "text/plain": [
       "18003"
      ]
     },
     "execution_count": 107,
     "metadata": {},
     "output_type": "execute_result"
    }
   ],
   "source": [
    "sum(df['title'].apply(lambda x: len(x.split())))"
   ]
  },
  {
   "cell_type": "code",
   "execution_count": 98,
   "metadata": {},
   "outputs": [],
   "source": [
    "from collections import Counter\n",
    "docs = df['cleanTitle'].tolist()\n",
    "article_length, token_count = [], Counter()\n",
    "for i, doc in enumerate(docs, 1):\n",
    "    if i % 1e6 == 0:\n",
    "        print(i, end=' ', flush=True)\n",
    "    d = doc.lower().split()\n",
    "    article_length.append(len(d))\n",
    "    token_count.update(d)"
   ]
  },
  {
   "cell_type": "code",
   "execution_count": 71,
   "metadata": {},
   "outputs": [],
   "source": [
    "sns.set_palette(\"Purples_r\")"
   ]
  },
  {
   "cell_type": "code",
   "execution_count": null,
   "metadata": {},
   "outputs": [],
   "source": []
  },
  {
   "cell_type": "code",
   "execution_count": 99,
   "metadata": {},
   "outputs": [
    {
     "data": {
      "image/png": "[encoded data removed]",
      "text/plain": [
       "<Figure size 1080x360 with 2 Axes>"
      ]
     },
     "metadata": {},
     "output_type": "display_data"
    }
   ],
   "source": [
    "fig, axes = plt.subplots(ncols=2, figsize=(15, 5))\n",
    "(pd.DataFrame(token_count.most_common(), columns=['token', 'count'])\n",
    " .pipe(lambda x: x[~x.token.str.lower().isin(stop_words)])\n",
    " .set_index('token')\n",
    " .squeeze()\n",
    " .iloc[:25]\n",
    " .sort_values()\n",
    " .plot\n",
    " .barh(ax=axes[0], title='Most frequent tokens'))\n",
    "sns.boxenplot(x=pd.Series(article_length), ax=axes[1])\n",
    "axes[1].set_xscale('log')\n",
    "axes[1].set_xlabel('Word Count (log scale)')\n",
    "axes[1].set_title('Article Length Distribution')\n",
    "sns.despine()\n",
    "fig.tight_layout()\n",
    "# fig.savefig(results_path / 'fn_explore', dpi=300);"
   ]
  },
  {
   "cell_type": "code",
   "execution_count": 88,
   "metadata": {},
   "outputs": [],
   "source": [
    "## load dataset\n",
    "path = '../../data/News_Category_Dataset_v2.json'\n",
    "df = load_json_item(path,['headline','category'])"
   ]
  },
  {
   "cell_type": "code",
   "execution_count": 89,
   "metadata": {},
   "outputs": [],
   "source": [
    "df.head()\n",
    "df['category'] = df['category'].apply(lambda x: x.lower())"
   ]
  },
  {
   "cell_type": "code",
   "execution_count": 90,
   "metadata": {},
   "outputs": [
    {
     "data": {
      "text/html": [
       "<div>\n",
       "<style scoped>\n",
       "    .dataframe tbody tr th:only-of-type {\n",
       "        vertical-align: middle;\n",
       "    }\n",
       "\n",
       "    .dataframe tbody tr th {\n",
       "        vertical-align: top;\n",
       "    }\n",
       "\n",
       "    .dataframe thead th {\n",
       "        text-align: right;\n",
       "    }\n",
       "</style>\n",
       "<table border=\"1\" class=\"dataframe\">\n",
       "  <thead>\n",
       "    <tr style=\"text-align: right;\">\n",
       "      <th></th>\n",
       "      <th>headline</th>\n",
       "      <th>category</th>\n",
       "    </tr>\n",
       "  </thead>\n",
       "  <tbody>\n",
       "    <tr>\n",
       "      <th>0</th>\n",
       "      <td>There Were 2 Mass Shootings In Texas Last Week...</td>\n",
       "      <td>crime</td>\n",
       "    </tr>\n",
       "    <tr>\n",
       "      <th>1</th>\n",
       "      <td>Will Smith Joins Diplo And Nicky Jam For The 2...</td>\n",
       "      <td>entertainment</td>\n",
       "    </tr>\n",
       "    <tr>\n",
       "      <th>2</th>\n",
       "      <td>Hugh Grant Marries For The First Time At Age 57</td>\n",
       "      <td>entertainment</td>\n",
       "    </tr>\n",
       "    <tr>\n",
       "      <th>3</th>\n",
       "      <td>Jim Carrey Blasts 'Castrato' Adam Schiff And D...</td>\n",
       "      <td>entertainment</td>\n",
       "    </tr>\n",
       "    <tr>\n",
       "      <th>4</th>\n",
       "      <td>Julianna Margulies Uses Donald Trump Poop Bags...</td>\n",
       "      <td>entertainment</td>\n",
       "    </tr>\n",
       "  </tbody>\n",
       "</table>\n",
       "</div>"
      ],
      "text/plain": [
       "                                            headline       category\n",
       "0  There Were 2 Mass Shootings In Texas Last Week...          crime\n",
       "1  Will Smith Joins Diplo And Nicky Jam For The 2...  entertainment\n",
       "2    Hugh Grant Marries For The First Time At Age 57  entertainment\n",
       "3  Jim Carrey Blasts 'Castrato' Adam Schiff And D...  entertainment\n",
       "4  Julianna Margulies Uses Donald Trump Poop Bags...  entertainment"
      ]
     },
     "execution_count": 90,
     "metadata": {},
     "output_type": "execute_result"
    }
   ],
   "source": [
    "df.head()"
   ]
  },
  {
   "cell_type": "code",
   "execution_count": 121,
   "metadata": {},
   "outputs": [],
   "source": [
    "df = pd.read_csv('../../data/khabar.csv',lineterminator='\\n',usecols=['title','cats'])"
   ]
  },
  {
   "cell_type": "code",
   "execution_count": 126,
   "metadata": {},
   "outputs": [],
   "source": []
  },
  {
   "cell_type": "code",
   "execution_count": 123,
   "metadata": {},
   "outputs": [],
   "source": [
    "df['category'] = df['cats'].apply(lambda x: int(eval(x)[0]) if eval(x)!=[] else None)\n",
    "df = df.dropna()"
   ]
  },
  {
   "cell_type": "code",
   "execution_count": 127,
   "metadata": {},
   "outputs": [],
   "source": [
    "mapped_category_title = {\n",
    "    0: \"خودرو\",\n",
    "    1: \"اخبار سیاسی/اجتماعی\",\n",
    "    2: \"اقتصادی\",\n",
    "    3: \"سلامت\",\n",
    "    4: \"زیبایی و مد\",\n",
    "    5: 'تکنولوژی و دانلود نرم‌افزار',\n",
    "    6: \"گردشگری\",\n",
    "    7: \"سرگرمی\",\n",
    "    8: \"خانواده و خانه‌داری\",\n",
    "    9: \"مسکن\",\n",
    "    10: \"مذهبی\",\n",
    "    11: \"کتاب و ادبیات\",\n",
    "    12: \"موسیقی و کنسرت\",\n",
    "    13: 'سینما، دانلود فیلم و اخبار بازیگران',\n",
    "    14: \"گیم، بازی و ...\",\n",
    "    15: \"سایر\",\n",
    "    16: \"ورزشی\",\n",
    "    17: 'نوزاد و کودک',\n",
    "    18: 'سرمایه‌گذاری',\n",
    "    19: 'همه‌چیز',\n",
    "    20: 'دانلود بازی، داستان  و ...'\n",
    "}"
   ]
  },
  {
   "cell_type": "code",
   "execution_count": 131,
   "metadata": {},
   "outputs": [],
   "source": [
    "df['category'] = df['category'].apply(lambda x: mapped_category_title[x])"
   ]
  },
  {
   "cell_type": "code",
   "execution_count": 135,
   "metadata": {},
   "outputs": [],
   "source": [
    "import arabic_reshaper\n",
    "from bidi.algorithm import get_display\n"
   ]
  },
  {
   "cell_type": "code",
   "execution_count": 136,
   "metadata": {},
   "outputs": [
    {
     "data": {
      "text/plain": [
       "(array([ 0,  1,  2,  3,  4,  5,  6,  7,  8,  9, 10, 11, 12, 13, 14, 15, 16]),\n",
       " [Text(0, 0, 'ﯽﻋﺎﻤﺘﺟﺍ/ﯽﺳﺎﯿﺳ ﺭﺎﺒﺧﺍ'),\n",
       "  Text(1, 0, 'ﯼﺩﺎﺼﺘﻗﺍ'),\n",
       "  Text(2, 0, 'ﺭﺍﺰﻓﺍﻡﺮﻧ ﺩﻮﻠﻧﺍﺩ ﻭ ﯼﮊﻮﻟﻮﻨﮑﺗ'),\n",
       "  Text(3, 0, 'ﯼﺭﺍﺩﻪﻧﺎﺧ ﻭ ﻩﺩﺍﻮﻧﺎﺧ'),\n",
       "  Text(4, 0, 'ﻭﺭﺩﻮﺧ'),\n",
       "  Text(5, 0, '... ﻭ  ﻥﺎﺘﺳﺍﺩ ،ﯼﺯﺎﺑ ﺩﻮﻠﻧﺍﺩ'),\n",
       "  Text(6, 0, 'ﺪﻣ ﻭ ﯽﯾﺎﺒﯾﺯ'),\n",
       "  Text(7, 0, 'ﯼﺭﺍﺬﮔﻪﯾﺎﻣﺮﺳ'),\n",
       "  Text(8, 0, 'ﺖﻣﻼﺳ'),\n",
       "  Text(9, 0, 'ﻥﺍﺮﮕﯾﺯﺎﺑ ﺭﺎﺒﺧﺍ ﻭ ﻢﻠﯿﻓ ﺩﻮﻠﻧﺍﺩ ،ﺎﻤﻨﯿﺳ'),\n",
       "  Text(10, 0, 'ﯽﺒﻫﺬﻣ'),\n",
       "  Text(11, 0, 'ﺕﺮﺴﻨﮐ ﻭ ﯽﻘﯿﺳﻮﻣ'),\n",
       "  Text(12, 0, 'ﮎﺩﻮﮐ ﻭ ﺩﺍﺯﻮﻧ'),\n",
       "  Text(13, 0, 'ﺰﯿﭼﻪﻤﻫ'),\n",
       "  Text(14, 0, 'ﯽﺷﺯﺭﻭ'),\n",
       "  Text(15, 0, 'ﺕﺎﯿﺑﺩﺍ ﻭ ﺏﺎﺘﮐ'),\n",
       "  Text(16, 0, 'ﯼﺮﮕﺷﺩﺮﮔ')])"
      ]
     },
     "execution_count": 136,
     "metadata": {},
     "output_type": "execute_result"
    },
    {
     "data": {
      "image/png": "[encoded data removed]",
      "text/plain": [
       "<Figure size 864x576 with 1 Axes>"
      ]
     },
     "metadata": {},
     "output_type": "display_data"
    }
   ],
   "source": [
    "dff= df[['title','category']].groupby('category').count().reset_index()\n",
    "dff.columns = ['category','count']\n",
    "dff['category'] = dff['category'].apply(lambda x: get_display(arabic_reshaper.reshape(x)))\n",
    "plt.title('Huffing Post Data Set Category Distribution')\n",
    "sns.barplot(x=\"category\", y=\"count\", data=dff)\n",
    "plt.xticks(rotation=70)"
   ]
  },
  {
   "cell_type": "code",
   "execution_count": null,
   "metadata": {},
   "outputs": [],
   "source": []
  }
 ],
 "metadata": {
  "interpreter": {
   "hash": "ae1f165465835e2cb6b5fceb256823d0ef9f76f85789d1da3312dd750aecaffe"
  },
  "kernelspec": {
   "display_name": "Python 3.7.9 64-bit",
   "language": "python",
   "name": "python3"
  },
  "language_info": {
   "codemirror_mode": {
    "name": "ipython",
    "version": 3
   },
   "file_extension": ".py",
   "mimetype": "text/x-python",
   "name": "python",
   "nbconvert_exporter": "python",
   "pygments_lexer": "ipython3",
   "version": "3.7.9"
  },
  "orig_nbformat": 4
 },
 "nbformat": 4,
 "nbformat_minor": 2
}
